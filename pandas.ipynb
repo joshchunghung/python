{
 "cells": [
  {
   "cell_type": "markdown",
   "metadata": {},
   "source": [
    "# Pandas\n",
    "\n",
    "https://pandas.pydata.org/pandas-docs/stable/getting_started/10min.html\n",
    "\n",
    "**好用的資料分析處理套件**\n",
    "\n",
    "Pandas 是 python 的一個數據分析 lib，提供高效能、簡易使用的資料格式(Data Frame)讓使用者可以快速操作及分析資料。\n",
    "\n",
    "Pandas cleanly handles reading and writing of many of the data formats encountered by scientists in the wild:\n",
    "• CSV • Excel• HDF\n",
    "• SQL • JSON • HTML • Stata\n",
    "• Clipboard • Pickle\n",
    "\n",
    "* Note : 單一個column,稱為series,多個series組成dataframe"
   ]
  },
  {
   "cell_type": "code",
   "execution_count": 87,
   "metadata": {},
   "outputs": [],
   "source": [
    "import pandas as pd \n",
    "import numpy as np"
   ]
  },
  {
   "cell_type": "markdown",
   "metadata": {},
   "source": [
    "## Series\n",
    "\n",
    "列 (橫的) : row ; 行 (直的) : column  "
   ]
  },
  {
   "cell_type": "code",
   "execution_count": 84,
   "metadata": {},
   "outputs": [
    {
     "data": {
      "text/plain": [
       "2020-01-01   -2.110780\n",
       "2020-01-02    2.926436\n",
       "2020-01-03   -0.818585\n",
       "2020-01-04    2.490949\n",
       "2020-01-05    1.431153\n",
       "Freq: D, dtype: float64"
      ]
     },
     "execution_count": 84,
     "metadata": {},
     "output_type": "execute_result"
    }
   ],
   "source": [
    "ts = pd.Series(np.random.randn(1000),index=pd.date_range('2020/1/1', periods=1000))\n",
    "ts.head()### 預設看前五行"
   ]
  },
  {
   "cell_type": "code",
   "execution_count": 85,
   "metadata": {},
   "outputs": [
    {
     "data": {
      "text/plain": [
       "<matplotlib.axes._subplots.AxesSubplot at 0x7fa12444a160>"
      ]
     },
     "execution_count": 85,
     "metadata": {},
     "output_type": "execute_result"
    },
    {
     "data": {
      "image/png": "[encoded data removed]",
      "text/plain": [
       "<Figure size 432x288 with 1 Axes>"
      ]
     },
     "metadata": {
      "needs_background": "light"
     },
     "output_type": "display_data"
    }
   ],
   "source": [
    "### np.random.randn(1000) 隨機產生1000個normal distrbution 的樣本\n",
    "ts = pd.Series(np.random.randn(1000),index=pd.date_range('2020/1/1', periods=1000))\n",
    "\n",
    "ts = ts.cumsum() ### row3 = row2+ row1 相加\n",
    "\n",
    "ts.plot()"
   ]
  },
  {
   "cell_type": "markdown",
   "metadata": {},
   "source": [
    "## pd.read_csv 讀檔 \n",
    "\n",
    "* You can read data from a CSV file using the `read_csv` function. By default, it assumes that the fields are comma-separated.\n",
    "\n",
    "* skipinitialspace：忽略分隔符後的空白（預設為False，即不忽略)\n",
    "* comment='=': 起頭為\"＝\"是註解，不要讀進DataFrame\n",
    "* header = 6: 表示header info 在7行\n",
    "\n"
   ]
  },
  {
   "cell_type": "code",
   "execution_count": 88,
   "metadata": {},
   "outputs": [],
   "source": [
    "df=pd.read_csv('event6.txt',sep=\"|\",header=0,skipinitialspace=True)"
   ]
  },
  {
   "cell_type": "code",
   "execution_count": 89,
   "metadata": {},
   "outputs": [
    {
     "data": {
      "text/html": [
       "<div>\n",
       "<style scoped>\n",
       "    .dataframe tbody tr th:only-of-type {\n",
       "        vertical-align: middle;\n",
       "    }\n",
       "\n",
       "    .dataframe tbody tr th {\n",
       "        vertical-align: top;\n",
       "    }\n",
       "\n",
       "    .dataframe thead th {\n",
       "        text-align: right;\n",
       "    }\n",
       "</style>\n",
       "<table border=\"1\" class=\"dataframe\">\n",
       "  <thead>\n",
       "    <tr style=\"text-align: right;\">\n",
       "      <th></th>\n",
       "      <th>EventID</th>\n",
       "      <th>Time</th>\n",
       "      <th>Latitude</th>\n",
       "      <th>Longitude</th>\n",
       "      <th>Depth</th>\n",
       "      <th>Author</th>\n",
       "      <th>Catalog</th>\n",
       "      <th>Contributor</th>\n",
       "      <th>ContributorID</th>\n",
       "      <th>MagType</th>\n",
       "      <th>Magnitude</th>\n",
       "      <th>MagAuthor</th>\n",
       "      <th>EventLocationName</th>\n",
       "    </tr>\n",
       "  </thead>\n",
       "  <tbody>\n",
       "    <tr>\n",
       "      <th>0</th>\n",
       "      <td>11254886</td>\n",
       "      <td>2020-06-18T12:49:53</td>\n",
       "      <td>-33.2938</td>\n",
       "      <td>-177.8383</td>\n",
       "      <td>10.00</td>\n",
       "      <td>at,pt,us</td>\n",
       "      <td>NEIC PDE</td>\n",
       "      <td>us</td>\n",
       "      <td>us6000ae4n,pt20170001,at00qc4gz1</td>\n",
       "      <td>Mww</td>\n",
       "      <td>7.4</td>\n",
       "      <td>us</td>\n",
       "      <td>SOUTH OF KERMADEC ISLANDS</td>\n",
       "    </tr>\n",
       "    <tr>\n",
       "      <th>1</th>\n",
       "      <td>11252039</td>\n",
       "      <td>2020-06-13T21:08:30</td>\n",
       "      <td>18.9225</td>\n",
       "      <td>145.1033</td>\n",
       "      <td>622.00</td>\n",
       "      <td>us,pt</td>\n",
       "      <td>NEIC PDE</td>\n",
       "      <td>us</td>\n",
       "      <td>pt20165055,us6000abgq</td>\n",
       "      <td>Mww</td>\n",
       "      <td>6.2</td>\n",
       "      <td>us</td>\n",
       "      <td>MARIANA ISLANDS</td>\n",
       "    </tr>\n",
       "    <tr>\n",
       "      <th>2</th>\n",
       "      <td>11251929</td>\n",
       "      <td>2020-06-13T15:51:23</td>\n",
       "      <td>28.9386</td>\n",
       "      <td>128.2621</td>\n",
       "      <td>159.62</td>\n",
       "      <td>at,pt,us</td>\n",
       "      <td>NEIC PDE</td>\n",
       "      <td>us</td>\n",
       "      <td>us6000abcq,at00qbvg1n,pt20165054</td>\n",
       "      <td>Mww</td>\n",
       "      <td>6.6</td>\n",
       "      <td>us</td>\n",
       "      <td>RYUKYU ISLANDS, JAPAN</td>\n",
       "    </tr>\n",
       "    <tr>\n",
       "      <th>3</th>\n",
       "      <td>11250134</td>\n",
       "      <td>2020-06-10T19:58:50</td>\n",
       "      <td>-15.7726</td>\n",
       "      <td>-13.0475</td>\n",
       "      <td>10.00</td>\n",
       "      <td>us,pt,at</td>\n",
       "      <td>NEIC PDE</td>\n",
       "      <td>us</td>\n",
       "      <td>at00qbq7i8,pt20162000,us6000a9ik</td>\n",
       "      <td>Mww</td>\n",
       "      <td>6.0</td>\n",
       "      <td>us</td>\n",
       "      <td>SOUTHERN MID-ATLANTIC RIDGE</td>\n",
       "    </tr>\n",
       "    <tr>\n",
       "      <th>4</th>\n",
       "      <td>11245920</td>\n",
       "      <td>2020-06-04T08:49:39</td>\n",
       "      <td>2.9231</td>\n",
       "      <td>128.2477</td>\n",
       "      <td>106.86</td>\n",
       "      <td>pt,at,us</td>\n",
       "      <td>NEIC PDE</td>\n",
       "      <td>us</td>\n",
       "      <td>us6000a5r3,pt20156001,at00qbe8it</td>\n",
       "      <td>mww</td>\n",
       "      <td>6.4</td>\n",
       "      <td>us</td>\n",
       "      <td>HALMAHERA, INDONESIA</td>\n",
       "    </tr>\n",
       "  </tbody>\n",
       "</table>\n",
       "</div>"
      ],
      "text/plain": [
       "   EventID                 Time   Latitude   Longitude   Depth    Author   \\\n",
       "0  11254886  2020-06-18T12:49:53   -33.2938   -177.8383   10.00  at,pt,us   \n",
       "1  11252039  2020-06-13T21:08:30    18.9225    145.1033  622.00     us,pt   \n",
       "2  11251929  2020-06-13T15:51:23    28.9386    128.2621  159.62  at,pt,us   \n",
       "3  11250134  2020-06-10T19:58:50   -15.7726    -13.0475   10.00  us,pt,at   \n",
       "4  11245920  2020-06-04T08:49:39     2.9231    128.2477  106.86  pt,at,us   \n",
       "\n",
       "   Catalog  Contributor                     ContributorID  MagType   \\\n",
       "0  NEIC PDE           us  us6000ae4n,pt20170001,at00qc4gz1      Mww   \n",
       "1  NEIC PDE           us             pt20165055,us6000abgq      Mww   \n",
       "2  NEIC PDE           us  us6000abcq,at00qbvg1n,pt20165054      Mww   \n",
       "3  NEIC PDE           us  at00qbq7i8,pt20162000,us6000a9ik      Mww   \n",
       "4  NEIC PDE           us  us6000a5r3,pt20156001,at00qbe8it      mww   \n",
       "\n",
       "   Magnitude  MagAuthor             EventLocationName  \n",
       "0         7.4         us    SOUTH OF KERMADEC ISLANDS  \n",
       "1         6.2         us              MARIANA ISLANDS  \n",
       "2         6.6         us        RYUKYU ISLANDS, JAPAN  \n",
       "3         6.0         us  SOUTHERN MID-ATLANTIC RIDGE  \n",
       "4         6.4         us         HALMAHERA, INDONESIA  "
      ]
     },
     "execution_count": 89,
     "metadata": {},
     "output_type": "execute_result"
    }
   ],
   "source": [
    "df.head()"
   ]
  },
  {
   "cell_type": "code",
   "execution_count": 90,
   "metadata": {},
   "outputs": [
    {
     "name": "stdout",
     "output_type": "stream",
     "text": [
      "<class 'pandas.core.frame.DataFrame'>\n",
      "RangeIndex: 50 entries, 0 to 49\n",
      "Data columns (total 13 columns):\n",
      " #   Column             Non-Null Count  Dtype  \n",
      "---  ------             --------------  -----  \n",
      " 0   EventID            50 non-null     int64  \n",
      " 1   Time               50 non-null     object \n",
      " 2   Latitude           50 non-null     float64\n",
      " 3   Longitude          50 non-null     float64\n",
      " 4   Depth              50 non-null     float64\n",
      " 5   Author             50 non-null     object \n",
      " 6   Catalog            50 non-null     object \n",
      " 7   Contributor        50 non-null     object \n",
      " 8   ContributorID      50 non-null     object \n",
      " 9   MagType            50 non-null     object \n",
      " 10  Magnitude          50 non-null     float64\n",
      " 11  MagAuthor          50 non-null     object \n",
      " 12  EventLocationName  50 non-null     object \n",
      "dtypes: float64(4), int64(1), object(8)\n",
      "memory usage: 5.2+ KB\n"
     ]
    }
   ],
   "source": [
    "df.info()"
   ]
  },
  {
   "cell_type": "code",
   "execution_count": 91,
   "metadata": {},
   "outputs": [
    {
     "data": {
      "text/html": [
       "<div>\n",
       "<style scoped>\n",
       "    .dataframe tbody tr th:only-of-type {\n",
       "        vertical-align: middle;\n",
       "    }\n",
       "\n",
       "    .dataframe tbody tr th {\n",
       "        vertical-align: top;\n",
       "    }\n",
       "\n",
       "    .dataframe thead th {\n",
       "        text-align: right;\n",
       "    }\n",
       "</style>\n",
       "<table border=\"1\" class=\"dataframe\">\n",
       "  <thead>\n",
       "    <tr style=\"text-align: right;\">\n",
       "      <th></th>\n",
       "      <th>EventID</th>\n",
       "      <th>Latitude</th>\n",
       "      <th>Longitude</th>\n",
       "      <th>Depth</th>\n",
       "      <th>Magnitude</th>\n",
       "    </tr>\n",
       "  </thead>\n",
       "  <tbody>\n",
       "    <tr>\n",
       "      <th>count</th>\n",
       "      <td>5.000000e+01</td>\n",
       "      <td>50.000000</td>\n",
       "      <td>50.000000</td>\n",
       "      <td>50.000000</td>\n",
       "      <td>50.000000</td>\n",
       "    </tr>\n",
       "    <tr>\n",
       "      <th>mean</th>\n",
       "      <td>1.120321e+07</td>\n",
       "      <td>5.744238</td>\n",
       "      <td>38.703996</td>\n",
       "      <td>85.049800</td>\n",
       "      <td>6.325600</td>\n",
       "    </tr>\n",
       "    <tr>\n",
       "      <th>std</th>\n",
       "      <td>2.773379e+04</td>\n",
       "      <td>28.661413</td>\n",
       "      <td>123.567230</td>\n",
       "      <td>143.359906</td>\n",
       "      <td>0.406519</td>\n",
       "    </tr>\n",
       "    <tr>\n",
       "      <th>min</th>\n",
       "      <td>1.116721e+07</td>\n",
       "      <td>-59.921200</td>\n",
       "      <td>-179.889200</td>\n",
       "      <td>2.700000</td>\n",
       "      <td>6.000000</td>\n",
       "    </tr>\n",
       "    <tr>\n",
       "      <th>25%</th>\n",
       "      <td>1.117682e+07</td>\n",
       "      <td>-11.812675</td>\n",
       "      <td>-76.734400</td>\n",
       "      <td>10.000000</td>\n",
       "      <td>6.025000</td>\n",
       "    </tr>\n",
       "    <tr>\n",
       "      <th>50%</th>\n",
       "      <td>1.120009e+07</td>\n",
       "      <td>0.658100</td>\n",
       "      <td>104.717650</td>\n",
       "      <td>20.840000</td>\n",
       "      <td>6.150000</td>\n",
       "    </tr>\n",
       "    <tr>\n",
       "      <th>75%</th>\n",
       "      <td>1.122540e+07</td>\n",
       "      <td>28.485725</td>\n",
       "      <td>144.335450</td>\n",
       "      <td>104.355000</td>\n",
       "      <td>6.475000</td>\n",
       "    </tr>\n",
       "    <tr>\n",
       "      <th>max</th>\n",
       "      <td>1.125489e+07</td>\n",
       "      <td>62.358000</td>\n",
       "      <td>171.061100</td>\n",
       "      <td>622.000000</td>\n",
       "      <td>7.700000</td>\n",
       "    </tr>\n",
       "  </tbody>\n",
       "</table>\n",
       "</div>"
      ],
      "text/plain": [
       "           EventID   Latitude   Longitude       Depth   Magnitude \n",
       "count  5.000000e+01  50.000000   50.000000   50.000000   50.000000\n",
       "mean   1.120321e+07   5.744238   38.703996   85.049800    6.325600\n",
       "std    2.773379e+04  28.661413  123.567230  143.359906    0.406519\n",
       "min    1.116721e+07 -59.921200 -179.889200    2.700000    6.000000\n",
       "25%    1.117682e+07 -11.812675  -76.734400   10.000000    6.025000\n",
       "50%    1.120009e+07   0.658100  104.717650   20.840000    6.150000\n",
       "75%    1.122540e+07  28.485725  144.335450  104.355000    6.475000\n",
       "max    1.125489e+07  62.358000  171.061100  622.000000    7.700000"
      ]
     },
     "execution_count": 91,
     "metadata": {},
     "output_type": "execute_result"
    }
   ],
   "source": [
    "df.describe()"
   ]
  },
  {
   "cell_type": "code",
   "execution_count": 92,
   "metadata": {},
   "outputs": [
    {
     "data": {
      "text/plain": [
       "(50, 13)"
      ]
     },
     "execution_count": 92,
     "metadata": {},
     "output_type": "execute_result"
    }
   ],
   "source": [
    "### 看有幾列幾欄\n",
    "df.shape"
   ]
  },
  {
   "cell_type": "code",
   "execution_count": 93,
   "metadata": {},
   "outputs": [
    {
     "data": {
      "text/plain": [
       "Index(['EventID ', 'Time ', 'Latitude ', 'Longitude ', 'Depth ', 'Author ',\n",
       "       'Catalog ', 'Contributor ', 'ContributorID ', 'MagType ', 'Magnitude ',\n",
       "       'MagAuthor ', 'EventLocationName'],\n",
       "      dtype='object')"
      ]
     },
     "execution_count": 93,
     "metadata": {},
     "output_type": "execute_result"
    }
   ],
   "source": [
    "### 查看所有的colunm名字\n",
    "df.columns"
   ]
  },
  {
   "cell_type": "code",
   "execution_count": 94,
   "metadata": {},
   "outputs": [
    {
     "data": {
      "text/plain": [
       "RangeIndex(start=0, stop=50, step=1)"
      ]
     },
     "execution_count": 94,
     "metadata": {},
     "output_type": "execute_result"
    }
   ],
   "source": [
    "### 查看所有的index (row)\n",
    "df.index"
   ]
  },
  {
   "cell_type": "code",
   "execution_count": 95,
   "metadata": {},
   "outputs": [
    {
     "name": "stdout",
     "output_type": "stream",
     "text": [
      "{'EventID ': 'EventID', 'Time ': 'Time', 'Latitude ': 'Latitude', 'Longitude ': 'Longitude', 'Depth ': 'Depth', 'Author ': 'Author', 'Catalog ': 'Catalog', 'Contributor ': 'Contributor', 'ContributorID ': 'ContributorID', 'MagType ': 'MagType', 'Magnitude ': 'Magnitude', 'MagAuthor ': 'MagAuthor', 'EventLocationName': 'EventLocationName'}\n"
     ]
    }
   ],
   "source": [
    "### 修改所有的column名字\n",
    "new_col={}\n",
    "for col in df.columns:\n",
    "    new_col[col]=str(col).strip()\n",
    "print(new_col)\n",
    "\n",
    "df.rename(columns=new_col,inplace=True) ### inplace=True 取代原本的df"
   ]
  },
  {
   "cell_type": "code",
   "execution_count": 96,
   "metadata": {},
   "outputs": [
    {
     "data": {
      "text/plain": [
       "EventID                int64\n",
       "Time                  object\n",
       "Latitude             float64\n",
       "Longitude            float64\n",
       "Depth                float64\n",
       "Author                object\n",
       "Catalog               object\n",
       "Contributor           object\n",
       "ContributorID         object\n",
       "MagType               object\n",
       "Magnitude            float64\n",
       "MagAuthor             object\n",
       "EventLocationName     object\n",
       "dtype: object"
      ]
     },
     "execution_count": 96,
     "metadata": {},
     "output_type": "execute_result"
    }
   ],
   "source": [
    "### 查看每一個column的資料型態\n",
    "df.dtypes"
   ]
  },
  {
   "cell_type": "code",
   "execution_count": 97,
   "metadata": {},
   "outputs": [],
   "source": [
    "### 將時間資料改為時間格式\n",
    "df['Time'] = pd.to_datetime(df['Time'])"
   ]
  },
  {
   "cell_type": "code",
   "execution_count": 98,
   "metadata": {},
   "outputs": [
    {
     "data": {
      "text/plain": [
       "EventID                       int64\n",
       "Time                 datetime64[ns]\n",
       "Latitude                    float64\n",
       "Longitude                   float64\n",
       "Depth                       float64\n",
       "Author                       object\n",
       "Catalog                      object\n",
       "Contributor                  object\n",
       "ContributorID                object\n",
       "MagType                      object\n",
       "Magnitude                   float64\n",
       "MagAuthor                    object\n",
       "EventLocationName            object\n",
       "dtype: object"
      ]
     },
     "execution_count": 98,
     "metadata": {},
     "output_type": "execute_result"
    }
   ],
   "source": [
    "### 注意 Ｔime的格式\n",
    "df.dtypes"
   ]
  },
  {
   "cell_type": "code",
   "execution_count": 99,
   "metadata": {},
   "outputs": [],
   "source": [
    "\"\"\"\n",
    "用column跟row的名字去取資料\n",
    "df.loc[row,column]\n",
    "：代表全部\n",
    "\"\"\"\n",
    "# df.dtypes!='object' 代表取column的dtype不等於object的那些column\n",
    "df2=df.loc[:,df.dtypes!='object']"
   ]
  },
  {
   "cell_type": "code",
   "execution_count": 106,
   "metadata": {},
   "outputs": [
    {
     "data": {
      "text/html": [
       "<div>\n",
       "<style scoped>\n",
       "    .dataframe tbody tr th:only-of-type {\n",
       "        vertical-align: middle;\n",
       "    }\n",
       "\n",
       "    .dataframe tbody tr th {\n",
       "        vertical-align: top;\n",
       "    }\n",
       "\n",
       "    .dataframe thead th {\n",
       "        text-align: right;\n",
       "    }\n",
       "</style>\n",
       "<table border=\"1\" class=\"dataframe\">\n",
       "  <thead>\n",
       "    <tr style=\"text-align: right;\">\n",
       "      <th></th>\n",
       "      <th>EventID</th>\n",
       "      <th>Latitude</th>\n",
       "      <th>Longitude</th>\n",
       "      <th>Depth</th>\n",
       "      <th>Magnitude</th>\n",
       "    </tr>\n",
       "    <tr>\n",
       "      <th>Time</th>\n",
       "      <th></th>\n",
       "      <th></th>\n",
       "      <th></th>\n",
       "      <th></th>\n",
       "      <th></th>\n",
       "    </tr>\n",
       "  </thead>\n",
       "  <tbody>\n",
       "    <tr>\n",
       "      <th>2020-06-18 12:49:53</th>\n",
       "      <td>11254886</td>\n",
       "      <td>-33.2938</td>\n",
       "      <td>-177.8383</td>\n",
       "      <td>10.00</td>\n",
       "      <td>7.4</td>\n",
       "    </tr>\n",
       "    <tr>\n",
       "      <th>2020-06-13 21:08:30</th>\n",
       "      <td>11252039</td>\n",
       "      <td>18.9225</td>\n",
       "      <td>145.1033</td>\n",
       "      <td>622.00</td>\n",
       "      <td>6.2</td>\n",
       "    </tr>\n",
       "    <tr>\n",
       "      <th>2020-06-13 15:51:23</th>\n",
       "      <td>11251929</td>\n",
       "      <td>28.9386</td>\n",
       "      <td>128.2621</td>\n",
       "      <td>159.62</td>\n",
       "      <td>6.6</td>\n",
       "    </tr>\n",
       "    <tr>\n",
       "      <th>2020-06-10 19:58:50</th>\n",
       "      <td>11250134</td>\n",
       "      <td>-15.7726</td>\n",
       "      <td>-13.0475</td>\n",
       "      <td>10.00</td>\n",
       "      <td>6.0</td>\n",
       "    </tr>\n",
       "    <tr>\n",
       "      <th>2020-06-04 08:49:39</th>\n",
       "      <td>11245920</td>\n",
       "      <td>2.9231</td>\n",
       "      <td>128.2477</td>\n",
       "      <td>106.86</td>\n",
       "      <td>6.4</td>\n",
       "    </tr>\n",
       "  </tbody>\n",
       "</table>\n",
       "</div>"
      ],
      "text/plain": [
       "                      EventID  Latitude  Longitude   Depth  Magnitude\n",
       "Time                                                                 \n",
       "2020-06-18 12:49:53  11254886  -33.2938  -177.8383   10.00        7.4\n",
       "2020-06-13 21:08:30  11252039   18.9225   145.1033  622.00        6.2\n",
       "2020-06-13 15:51:23  11251929   28.9386   128.2621  159.62        6.6\n",
       "2020-06-10 19:58:50  11250134  -15.7726   -13.0475   10.00        6.0\n",
       "2020-06-04 08:49:39  11245920    2.9231   128.2477  106.86        6.4"
      ]
     },
     "execution_count": 106,
     "metadata": {},
     "output_type": "execute_result"
    }
   ],
   "source": [
    "df2.head()"
   ]
  },
  {
   "cell_type": "code",
   "execution_count": null,
   "metadata": {},
   "outputs": [],
   "source": [
    "### 設定以Ｔime column當作index\n",
    "df2=df2.set_index('Time')"
   ]
  },
  {
   "cell_type": "code",
   "execution_count": 116,
   "metadata": {},
   "outputs": [
    {
     "data": {
      "text/plain": [
       "Time\n",
       "2020-06-18 12:49:53   -33.2938\n",
       "Name: Latitude, dtype: float64"
      ]
     },
     "execution_count": 116,
     "metadata": {},
     "output_type": "execute_result"
    }
   ],
   "source": [
    "### index 使用\n",
    "df2.loc['2020-06-18 12:49:53'].Latitude\n",
    "\n",
    "# 等義 df2['2020-06-18 12:49:53'].Latitude\n",
    "# 等義 df2.loc['2020-06-18 12:49:53','Latitude']\n"
   ]
  },
  {
   "cell_type": "code",
   "execution_count": 117,
   "metadata": {},
   "outputs": [],
   "source": [
    "### 整理資料的另外一種方法 - 直接取出['Time','Latitude','Longitude','Depth','Magnitude']\n",
    "df=df.loc[:,['Time','Latitude','Longitude','Depth','Magnitude']] "
   ]
  },
  {
   "cell_type": "code",
   "execution_count": 118,
   "metadata": {},
   "outputs": [
    {
     "data": {
      "text/html": [
       "<div>\n",
       "<style scoped>\n",
       "    .dataframe tbody tr th:only-of-type {\n",
       "        vertical-align: middle;\n",
       "    }\n",
       "\n",
       "    .dataframe tbody tr th {\n",
       "        vertical-align: top;\n",
       "    }\n",
       "\n",
       "    .dataframe thead th {\n",
       "        text-align: right;\n",
       "    }\n",
       "</style>\n",
       "<table border=\"1\" class=\"dataframe\">\n",
       "  <thead>\n",
       "    <tr style=\"text-align: right;\">\n",
       "      <th></th>\n",
       "      <th>Time</th>\n",
       "      <th>Latitude</th>\n",
       "      <th>Longitude</th>\n",
       "      <th>Depth</th>\n",
       "      <th>Magnitude</th>\n",
       "    </tr>\n",
       "  </thead>\n",
       "  <tbody>\n",
       "    <tr>\n",
       "      <th>9</th>\n",
       "      <td>2020-05-15 11:03:27</td>\n",
       "      <td>38.1689</td>\n",
       "      <td>-117.8497</td>\n",
       "      <td>2.70</td>\n",
       "      <td>6.5</td>\n",
       "    </tr>\n",
       "    <tr>\n",
       "      <th>44</th>\n",
       "      <td>2020-01-19 13:27:56</td>\n",
       "      <td>39.8353</td>\n",
       "      <td>77.1097</td>\n",
       "      <td>5.57</td>\n",
       "      <td>6.0</td>\n",
       "    </tr>\n",
       "    <tr>\n",
       "      <th>48</th>\n",
       "      <td>2020-01-07 08:24:25</td>\n",
       "      <td>17.8672</td>\n",
       "      <td>-66.8280</td>\n",
       "      <td>8.07</td>\n",
       "      <td>6.4</td>\n",
       "    </tr>\n",
       "    <tr>\n",
       "      <th>0</th>\n",
       "      <td>2020-06-18 12:49:53</td>\n",
       "      <td>-33.2938</td>\n",
       "      <td>-177.8383</td>\n",
       "      <td>10.00</td>\n",
       "      <td>7.4</td>\n",
       "    </tr>\n",
       "    <tr>\n",
       "      <th>46</th>\n",
       "      <td>2020-01-09 08:38:08</td>\n",
       "      <td>62.3580</td>\n",
       "      <td>171.0611</td>\n",
       "      <td>10.00</td>\n",
       "      <td>6.4</td>\n",
       "    </tr>\n",
       "    <tr>\n",
       "      <th>41</th>\n",
       "      <td>2020-01-23 05:53:02</td>\n",
       "      <td>51.9836</td>\n",
       "      <td>-177.8550</td>\n",
       "      <td>10.00</td>\n",
       "      <td>6.2</td>\n",
       "    </tr>\n",
       "    <tr>\n",
       "      <th>40</th>\n",
       "      <td>2020-01-24 17:55:13</td>\n",
       "      <td>38.3897</td>\n",
       "      <td>39.0883</td>\n",
       "      <td>10.00</td>\n",
       "      <td>6.7</td>\n",
       "    </tr>\n",
       "    <tr>\n",
       "      <th>36</th>\n",
       "      <td>2020-01-28 21:55:16</td>\n",
       "      <td>18.9437</td>\n",
       "      <td>-80.7420</td>\n",
       "      <td>10.00</td>\n",
       "      <td>6.1</td>\n",
       "    </tr>\n",
       "    <tr>\n",
       "      <th>29</th>\n",
       "      <td>2020-02-23 16:00:31</td>\n",
       "      <td>38.4933</td>\n",
       "      <td>44.3729</td>\n",
       "      <td>10.00</td>\n",
       "      <td>6.0</td>\n",
       "    </tr>\n",
       "    <tr>\n",
       "      <th>28</th>\n",
       "      <td>2020-03-14 10:01:16</td>\n",
       "      <td>-27.3664</td>\n",
       "      <td>-175.6074</td>\n",
       "      <td>10.00</td>\n",
       "      <td>6.4</td>\n",
       "    </tr>\n",
       "  </tbody>\n",
       "</table>\n",
       "</div>"
      ],
      "text/plain": [
       "                  Time  Latitude  Longitude  Depth  Magnitude\n",
       "9  2020-05-15 11:03:27   38.1689  -117.8497   2.70        6.5\n",
       "44 2020-01-19 13:27:56   39.8353    77.1097   5.57        6.0\n",
       "48 2020-01-07 08:24:25   17.8672   -66.8280   8.07        6.4\n",
       "0  2020-06-18 12:49:53  -33.2938  -177.8383  10.00        7.4\n",
       "46 2020-01-09 08:38:08   62.3580   171.0611  10.00        6.4\n",
       "41 2020-01-23 05:53:02   51.9836  -177.8550  10.00        6.2\n",
       "40 2020-01-24 17:55:13   38.3897    39.0883  10.00        6.7\n",
       "36 2020-01-28 21:55:16   18.9437   -80.7420  10.00        6.1\n",
       "29 2020-02-23 16:00:31   38.4933    44.3729  10.00        6.0\n",
       "28 2020-03-14 10:01:16  -27.3664  -175.6074  10.00        6.4"
      ]
     },
     "execution_count": 118,
     "metadata": {},
     "output_type": "execute_result"
    }
   ],
   "source": [
    "### 資料排序\n",
    "\"\"\"\n",
    "by='Depth' : 利用'Depth'這欄排序\n",
    "ascending=True 由小到大排序\n",
    "\"\"\"\n",
    "df.sort_values(by='Depth',ascending=True).head(10)"
   ]
  },
  {
   "cell_type": "markdown",
   "metadata": {},
   "source": [
    "##  iloc 單純用第幾欄第幾列排抓資料\n",
    "\n",
    "iloc[row:column]"
   ]
  },
  {
   "cell_type": "code",
   "execution_count": 119,
   "metadata": {},
   "outputs": [
    {
     "data": {
      "text/plain": [
       "0     10.00\n",
       "1    622.00\n",
       "2    159.62\n",
       "3     10.00\n",
       "4    106.86\n",
       "Name: Depth, dtype: float64"
      ]
     },
     "execution_count": 119,
     "metadata": {},
     "output_type": "execute_result"
    }
   ],
   "source": [
    "### 取第四欄的前五個資料\n",
    "df.iloc[:,3].head()"
   ]
  },
  {
   "cell_type": "code",
   "execution_count": 59,
   "metadata": {},
   "outputs": [
    {
     "data": {
      "text/plain": [
       "0     False\n",
       "1      True\n",
       "2      True\n",
       "3     False\n",
       "4      True\n",
       "5     False\n",
       "6      True\n",
       "7     False\n",
       "8     False\n",
       "9     False\n",
       "10     True\n",
       "11     True\n",
       "12     True\n",
       "13    False\n",
       "14    False\n",
       "15    False\n",
       "16     True\n",
       "17    False\n",
       "18    False\n",
       "19    False\n",
       "20    False\n",
       "21    False\n",
       "22    False\n",
       "23    False\n",
       "24    False\n",
       "25    False\n",
       "26     True\n",
       "27    False\n",
       "28    False\n",
       "29    False\n",
       "30     True\n",
       "31    False\n",
       "32    False\n",
       "33    False\n",
       "34     True\n",
       "35    False\n",
       "36    False\n",
       "37    False\n",
       "38    False\n",
       "39    False\n",
       "40    False\n",
       "41    False\n",
       "42    False\n",
       "43     True\n",
       "44    False\n",
       "45    False\n",
       "46    False\n",
       "47     True\n",
       "48    False\n",
       "49    False\n",
       "Name: Depth, dtype: bool"
      ]
     },
     "execution_count": 59,
     "metadata": {},
     "output_type": "execute_result"
    }
   ],
   "source": [
    "### 判斷第四欄使否大於100\n",
    "df.iloc[:,3]>100"
   ]
  },
  {
   "cell_type": "code",
   "execution_count": 60,
   "metadata": {},
   "outputs": [
    {
     "data": {
      "text/html": [
       "<div>\n",
       "<style scoped>\n",
       "    .dataframe tbody tr th:only-of-type {\n",
       "        vertical-align: middle;\n",
       "    }\n",
       "\n",
       "    .dataframe tbody tr th {\n",
       "        vertical-align: top;\n",
       "    }\n",
       "\n",
       "    .dataframe thead th {\n",
       "        text-align: right;\n",
       "    }\n",
       "</style>\n",
       "<table border=\"1\" class=\"dataframe\">\n",
       "  <thead>\n",
       "    <tr style=\"text-align: right;\">\n",
       "      <th></th>\n",
       "      <th>Time</th>\n",
       "      <th>Latitude</th>\n",
       "      <th>Longitude</th>\n",
       "      <th>Depth</th>\n",
       "      <th>Magnitude</th>\n",
       "    </tr>\n",
       "  </thead>\n",
       "  <tbody>\n",
       "    <tr>\n",
       "      <th>1</th>\n",
       "      <td>2020-06-13T21:08:30</td>\n",
       "      <td>18.9225</td>\n",
       "      <td>145.1033</td>\n",
       "      <td>622.00</td>\n",
       "      <td>6.2</td>\n",
       "    </tr>\n",
       "    <tr>\n",
       "      <th>2</th>\n",
       "      <td>2020-06-13T15:51:23</td>\n",
       "      <td>28.9386</td>\n",
       "      <td>128.2621</td>\n",
       "      <td>159.62</td>\n",
       "      <td>6.6</td>\n",
       "    </tr>\n",
       "    <tr>\n",
       "      <th>4</th>\n",
       "      <td>2020-06-04T08:49:39</td>\n",
       "      <td>2.9231</td>\n",
       "      <td>128.2477</td>\n",
       "      <td>106.86</td>\n",
       "      <td>6.4</td>\n",
       "    </tr>\n",
       "    <tr>\n",
       "      <th>6</th>\n",
       "      <td>2020-05-31T05:09:35</td>\n",
       "      <td>-15.2747</td>\n",
       "      <td>-70.6630</td>\n",
       "      <td>153.41</td>\n",
       "      <td>6.0</td>\n",
       "    </tr>\n",
       "    <tr>\n",
       "      <th>10</th>\n",
       "      <td>2020-05-12T22:41:12</td>\n",
       "      <td>-12.0662</td>\n",
       "      <td>166.6482</td>\n",
       "      <td>107.00</td>\n",
       "      <td>6.6</td>\n",
       "    </tr>\n",
       "    <tr>\n",
       "      <th>11</th>\n",
       "      <td>2020-05-07T11:21:19</td>\n",
       "      <td>-4.4543</td>\n",
       "      <td>154.7127</td>\n",
       "      <td>466.17</td>\n",
       "      <td>6.1</td>\n",
       "    </tr>\n",
       "    <tr>\n",
       "      <th>12</th>\n",
       "      <td>2020-05-06T13:53:56</td>\n",
       "      <td>-6.7949</td>\n",
       "      <td>129.8613</td>\n",
       "      <td>107.00</td>\n",
       "      <td>6.8</td>\n",
       "    </tr>\n",
       "    <tr>\n",
       "      <th>16</th>\n",
       "      <td>2020-04-18T08:25:37</td>\n",
       "      <td>27.1271</td>\n",
       "      <td>140.1312</td>\n",
       "      <td>453.00</td>\n",
       "      <td>6.6</td>\n",
       "    </tr>\n",
       "    <tr>\n",
       "      <th>26</th>\n",
       "      <td>2020-03-18T03:13:45</td>\n",
       "      <td>-13.1364</td>\n",
       "      <td>167.0277</td>\n",
       "      <td>176.00</td>\n",
       "      <td>6.1</td>\n",
       "    </tr>\n",
       "    <tr>\n",
       "      <th>30</th>\n",
       "      <td>2020-02-13T10:33:44</td>\n",
       "      <td>45.6313</td>\n",
       "      <td>148.9293</td>\n",
       "      <td>144.00</td>\n",
       "      <td>7.0</td>\n",
       "    </tr>\n",
       "    <tr>\n",
       "      <th>34</th>\n",
       "      <td>2020-02-05T18:12:37</td>\n",
       "      <td>-6.0817</td>\n",
       "      <td>113.0778</td>\n",
       "      <td>592.42</td>\n",
       "      <td>6.2</td>\n",
       "    </tr>\n",
       "    <tr>\n",
       "      <th>43</th>\n",
       "      <td>2020-01-19T16:58:20</td>\n",
       "      <td>-0.1042</td>\n",
       "      <td>123.8025</td>\n",
       "      <td>121.72</td>\n",
       "      <td>6.1</td>\n",
       "    </tr>\n",
       "    <tr>\n",
       "      <th>47</th>\n",
       "      <td>2020-01-07T19:11:35</td>\n",
       "      <td>-5.2046</td>\n",
       "      <td>151.2659</td>\n",
       "      <td>117.00</td>\n",
       "      <td>6.0</td>\n",
       "    </tr>\n",
       "  </tbody>\n",
       "</table>\n",
       "</div>"
      ],
      "text/plain": [
       "                   Time  Latitude  Longitude   Depth  Magnitude\n",
       "1   2020-06-13T21:08:30   18.9225   145.1033  622.00        6.2\n",
       "2   2020-06-13T15:51:23   28.9386   128.2621  159.62        6.6\n",
       "4   2020-06-04T08:49:39    2.9231   128.2477  106.86        6.4\n",
       "6   2020-05-31T05:09:35  -15.2747   -70.6630  153.41        6.0\n",
       "10  2020-05-12T22:41:12  -12.0662   166.6482  107.00        6.6\n",
       "11  2020-05-07T11:21:19   -4.4543   154.7127  466.17        6.1\n",
       "12  2020-05-06T13:53:56   -6.7949   129.8613  107.00        6.8\n",
       "16  2020-04-18T08:25:37   27.1271   140.1312  453.00        6.6\n",
       "26  2020-03-18T03:13:45  -13.1364   167.0277  176.00        6.1\n",
       "30  2020-02-13T10:33:44   45.6313   148.9293  144.00        7.0\n",
       "34  2020-02-05T18:12:37   -6.0817   113.0778  592.42        6.2\n",
       "43  2020-01-19T16:58:20   -0.1042   123.8025  121.72        6.1\n",
       "47  2020-01-07T19:11:35   -5.2046   151.2659  117.00        6.0"
      ]
     },
     "execution_count": 60,
     "metadata": {},
     "output_type": "execute_result"
    }
   ],
   "source": [
    "### 取第四欄>100的資料\n",
    "df[df.iloc[:,3]>100]"
   ]
  },
  {
   "cell_type": "code",
   "execution_count": 61,
   "metadata": {},
   "outputs": [
    {
     "data": {
      "text/html": [
       "<div>\n",
       "<style scoped>\n",
       "    .dataframe tbody tr th:only-of-type {\n",
       "        vertical-align: middle;\n",
       "    }\n",
       "\n",
       "    .dataframe tbody tr th {\n",
       "        vertical-align: top;\n",
       "    }\n",
       "\n",
       "    .dataframe thead th {\n",
       "        text-align: right;\n",
       "    }\n",
       "</style>\n",
       "<table border=\"1\" class=\"dataframe\">\n",
       "  <thead>\n",
       "    <tr style=\"text-align: right;\">\n",
       "      <th></th>\n",
       "      <th>Time</th>\n",
       "      <th>Latitude</th>\n",
       "      <th>Longitude</th>\n",
       "      <th>Depth</th>\n",
       "      <th>Magnitude</th>\n",
       "    </tr>\n",
       "  </thead>\n",
       "  <tbody>\n",
       "    <tr>\n",
       "      <th>1</th>\n",
       "      <td>2020-06-13T21:08:30</td>\n",
       "      <td>18.9225</td>\n",
       "      <td>145.1033</td>\n",
       "      <td>622.00</td>\n",
       "      <td>6.2</td>\n",
       "    </tr>\n",
       "    <tr>\n",
       "      <th>2</th>\n",
       "      <td>2020-06-13T15:51:23</td>\n",
       "      <td>28.9386</td>\n",
       "      <td>128.2621</td>\n",
       "      <td>159.62</td>\n",
       "      <td>6.6</td>\n",
       "    </tr>\n",
       "    <tr>\n",
       "      <th>4</th>\n",
       "      <td>2020-06-04T08:49:39</td>\n",
       "      <td>2.9231</td>\n",
       "      <td>128.2477</td>\n",
       "      <td>106.86</td>\n",
       "      <td>6.4</td>\n",
       "    </tr>\n",
       "    <tr>\n",
       "      <th>6</th>\n",
       "      <td>2020-05-31T05:09:35</td>\n",
       "      <td>-15.2747</td>\n",
       "      <td>-70.6630</td>\n",
       "      <td>153.41</td>\n",
       "      <td>6.0</td>\n",
       "    </tr>\n",
       "    <tr>\n",
       "      <th>10</th>\n",
       "      <td>2020-05-12T22:41:12</td>\n",
       "      <td>-12.0662</td>\n",
       "      <td>166.6482</td>\n",
       "      <td>107.00</td>\n",
       "      <td>6.6</td>\n",
       "    </tr>\n",
       "    <tr>\n",
       "      <th>11</th>\n",
       "      <td>2020-05-07T11:21:19</td>\n",
       "      <td>-4.4543</td>\n",
       "      <td>154.7127</td>\n",
       "      <td>466.17</td>\n",
       "      <td>6.1</td>\n",
       "    </tr>\n",
       "    <tr>\n",
       "      <th>12</th>\n",
       "      <td>2020-05-06T13:53:56</td>\n",
       "      <td>-6.7949</td>\n",
       "      <td>129.8613</td>\n",
       "      <td>107.00</td>\n",
       "      <td>6.8</td>\n",
       "    </tr>\n",
       "    <tr>\n",
       "      <th>16</th>\n",
       "      <td>2020-04-18T08:25:37</td>\n",
       "      <td>27.1271</td>\n",
       "      <td>140.1312</td>\n",
       "      <td>453.00</td>\n",
       "      <td>6.6</td>\n",
       "    </tr>\n",
       "    <tr>\n",
       "      <th>26</th>\n",
       "      <td>2020-03-18T03:13:45</td>\n",
       "      <td>-13.1364</td>\n",
       "      <td>167.0277</td>\n",
       "      <td>176.00</td>\n",
       "      <td>6.1</td>\n",
       "    </tr>\n",
       "    <tr>\n",
       "      <th>30</th>\n",
       "      <td>2020-02-13T10:33:44</td>\n",
       "      <td>45.6313</td>\n",
       "      <td>148.9293</td>\n",
       "      <td>144.00</td>\n",
       "      <td>7.0</td>\n",
       "    </tr>\n",
       "    <tr>\n",
       "      <th>34</th>\n",
       "      <td>2020-02-05T18:12:37</td>\n",
       "      <td>-6.0817</td>\n",
       "      <td>113.0778</td>\n",
       "      <td>592.42</td>\n",
       "      <td>6.2</td>\n",
       "    </tr>\n",
       "    <tr>\n",
       "      <th>43</th>\n",
       "      <td>2020-01-19T16:58:20</td>\n",
       "      <td>-0.1042</td>\n",
       "      <td>123.8025</td>\n",
       "      <td>121.72</td>\n",
       "      <td>6.1</td>\n",
       "    </tr>\n",
       "    <tr>\n",
       "      <th>47</th>\n",
       "      <td>2020-01-07T19:11:35</td>\n",
       "      <td>-5.2046</td>\n",
       "      <td>151.2659</td>\n",
       "      <td>117.00</td>\n",
       "      <td>6.0</td>\n",
       "    </tr>\n",
       "  </tbody>\n",
       "</table>\n",
       "</div>"
      ],
      "text/plain": [
       "                   Time  Latitude  Longitude   Depth  Magnitude\n",
       "1   2020-06-13T21:08:30   18.9225   145.1033  622.00        6.2\n",
       "2   2020-06-13T15:51:23   28.9386   128.2621  159.62        6.6\n",
       "4   2020-06-04T08:49:39    2.9231   128.2477  106.86        6.4\n",
       "6   2020-05-31T05:09:35  -15.2747   -70.6630  153.41        6.0\n",
       "10  2020-05-12T22:41:12  -12.0662   166.6482  107.00        6.6\n",
       "11  2020-05-07T11:21:19   -4.4543   154.7127  466.17        6.1\n",
       "12  2020-05-06T13:53:56   -6.7949   129.8613  107.00        6.8\n",
       "16  2020-04-18T08:25:37   27.1271   140.1312  453.00        6.6\n",
       "26  2020-03-18T03:13:45  -13.1364   167.0277  176.00        6.1\n",
       "30  2020-02-13T10:33:44   45.6313   148.9293  144.00        7.0\n",
       "34  2020-02-05T18:12:37   -6.0817   113.0778  592.42        6.2\n",
       "43  2020-01-19T16:58:20   -0.1042   123.8025  121.72        6.1\n",
       "47  2020-01-07T19:11:35   -5.2046   151.2659  117.00        6.0"
      ]
     },
     "execution_count": 61,
     "metadata": {},
     "output_type": "execute_result"
    }
   ],
   "source": [
    "### 取第四欄是Depth所以也可以寫成\n",
    "df[df.Depth>100]"
   ]
  },
  {
   "cell_type": "markdown",
   "metadata": {},
   "source": [
    "## Easy plot"
   ]
  },
  {
   "cell_type": "code",
   "execution_count": 40,
   "metadata": {},
   "outputs": [
    {
     "data": {
      "text/plain": [
       "<matplotlib.axes._subplots.AxesSubplot at 0x7fa123b555c0>"
      ]
     },
     "execution_count": 40,
     "metadata": {},
     "output_type": "execute_result"
    },
    {
     "data": {
      "image/png": "[encoded data removed]",
      "text/plain": [
       "<Figure size 432x288 with 1 Axes>"
      ]
     },
     "metadata": {
      "needs_background": "light"
     },
     "output_type": "display_data"
    }
   ],
   "source": [
    "### 散佈圖\n",
    "df.plot.scatter(x='Longitude',y='Latitude')"
   ]
  },
  {
   "cell_type": "code",
   "execution_count": 41,
   "metadata": {},
   "outputs": [
    {
     "data": {
      "text/plain": [
       "<matplotlib.axes._subplots.AxesSubplot at 0x7fa1205a1198>"
      ]
     },
     "execution_count": 41,
     "metadata": {},
     "output_type": "execute_result"
    },
    {
     "data": {
      "image/png": "[encoded data removed]",
      "text/plain": [
       "<Figure size 432x288 with 1 Axes>"
      ]
     },
     "metadata": {
      "needs_background": "light"
     },
     "output_type": "display_data"
    }
   ],
   "source": [
    "### x=2 , 用第三欄當作x\n",
    "df.plot.scatter(x=2,y='Latitude')"
   ]
  },
  {
   "cell_type": "code",
   "execution_count": 42,
   "metadata": {},
   "outputs": [
    {
     "data": {
      "text/plain": [
       "<matplotlib.axes._subplots.AxesSubplot at 0x7fa123c5a860>"
      ]
     },
     "execution_count": 42,
     "metadata": {},
     "output_type": "execute_result"
    },
    {
     "data": {
      "image/png": "[encoded data removed]",
      "text/plain": [
       "<Figure size 432x288 with 1 Axes>"
      ]
     },
     "metadata": {
      "needs_background": "light"
     },
     "output_type": "display_data"
    }
   ],
   "source": [
    "### 盒狀圖\n",
    "df.Magnitude.plot.box()"
   ]
  },
  {
   "cell_type": "code",
   "execution_count": 121,
   "metadata": {},
   "outputs": [
    {
     "data": {
      "text/plain": [
       "<matplotlib.axes._subplots.AxesSubplot at 0x7fa125407208>"
      ]
     },
     "execution_count": 121,
     "metadata": {},
     "output_type": "execute_result"
    },
    {
     "data": {
      "image/png": "[encoded data removed]",
      "text/plain": [
       "<Figure size 432x288 with 1 Axes>"
      ]
     },
     "metadata": {
      "needs_background": "light"
     },
     "output_type": "display_data"
    }
   ],
   "source": [
    "### 直方圖\n",
    "df.Magnitude.plot.hist()"
   ]
  },
  {
   "cell_type": "code",
   "execution_count": 120,
   "metadata": {},
   "outputs": [
    {
     "data": {
      "text/plain": [
       "<matplotlib.axes._subplots.AxesSubplot at 0x7fa124bc2e80>"
      ]
     },
     "execution_count": 120,
     "metadata": {},
     "output_type": "execute_result"
    },
    {
     "data": {
      "image/png": "[encoded data removed]",
      "text/plain": [
       "<Figure size 432x288 with 1 Axes>"
      ]
     },
     "metadata": {
      "needs_background": "light"
     },
     "output_type": "display_data"
    }
   ],
   "source": [
    "### 直方圖要分成五個 bin\n",
    "df.Magnitude.plot.hist(bins=5)"
   ]
  }
 ],
 "metadata": {
  "kernelspec": {
   "display_name": "Python 3",
   "language": "python",
   "name": "python3"
  },
  "language_info": {
   "codemirror_mode": {
    "name": "ipython",
    "version": 3
   },
   "file_extension": ".py",
   "mimetype": "text/x-python",
   "name": "python",
   "nbconvert_exporter": "python",
   "pygments_lexer": "ipython3",
   "version": "3.6.10"
  }
 },
 "nbformat": 4,
 "nbformat_minor": 4
}
