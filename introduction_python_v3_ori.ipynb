{
 "cells": [
  {
   "cell_type": "markdown",
   "metadata": {},
   "source": [
    "# Introduction to Python at IES, Academia Sinica\n",
    "by Josh, Chung-Hung Lo ( contact me : joshchunghung@gmail.com )\n",
    "\n",
    "Converging Lithosphere Laboratory (Prof. Tai-Lin Tseng), \n",
    "Department of Geoscience, National Taiwan University\n",
    "\n",
    "create: 2020/06/13\n",
    "\n",
    "version2: 2020/06/25\n",
    "\n",
    "version3: 2020/07/03\n",
    "\n"
   ]
  },
  {
   "cell_type": "markdown",
   "metadata": {},
   "source": [
    "## Source\n",
    "* 地球科學資料處理，TA10410094，師大林佩瑩教授，2019\n",
    "* Intro. to Python & Obspy，2019 summer program，簡珮如\n",
    "* https://www.w3schools.com/python/default.asp"
   ]
  },
  {
   "cell_type": "markdown",
   "metadata": {},
   "source": [
    "## Ch0. 序言\n",
    "## 0.1 程式語言\n",
    "### 0.1.1 程式撰寫的邏輯\n",
    "\n",
    "**電腦程式=指令(Instructions)+資料(Data)**\n",
    "\n",
    "程式是人類利用電腦解決問題的媒介。人腦與電腦最大的不同在於人腦可以快速舉一反三，電腦則需要一步一步的指令以完成人類交代的工作。所以在撰寫程式的時候，你需要將解決問題的步驟**一步一步歸納**出來。\n",
    "\n",
    "* 歸納的步驟--以找尋julian day 為例\n",
    "    1. 找出julian day 的定義 : 某年某月某日是該年當中的第幾天。\n",
    "    2. 尋找相關的指令 : 從**外部輸入** 某年某月某日 ; 利用**加法**得到第幾天 ; 最後**輸出**。粗體部分就是相關指令，常以動詞表現。\n",
    "    3. 有例外嗎? : 閏年的時候，2月的天數是29天 ; 大月沒有32天... etc.\n",
    "\n"
   ]
  },
  {
   "cell_type": "code",
   "execution_count": null,
   "metadata": {},
   "outputs": [],
   "source": [
    "#### STEP 1 for Julian Day\n",
    "cal_time=input('輸入yyyy.mm.dd')\n",
    "year,month,day=cal_time.split(\".\")\n",
    "year=int(year);month=int(month);day=int(day)\n",
    "\n",
    "mon_day=[31,28,31,30,31,30,31,31,30,31,30,31]\n",
    "\n",
    "\n",
    "mon_i=1 ; jday=0\n",
    "\n",
    "while mon_i < month:\n",
    "    jday+=mon_day[mon_i-1]\n",
    "    mon_i+=1\n",
    "    \n",
    "\n",
    "jday+=int(day)\n",
    "\n",
    "year=print(f\"{year}.{jday}\")"
   ]
  },
  {
   "cell_type": "code",
   "execution_count": null,
   "metadata": {},
   "outputs": [],
   "source": [
    "### 加入例外情形\n",
    "cal_time=input('輸入yyyy.mm.dd')\n",
    "year,month,day=list(map(lambda x : int(x),cal_time.split(\".\")))\n",
    "\n",
    "mon_day=[31,28,31,30,31,30,31,31,30,31,30,31]\n",
    "                    \n",
    "if year % 400 == 0 or year % 100 != 0 and year % 4 == 0 :\n",
    "    mon_day[1]=29\n",
    "\n",
    "if month > 12 or month < 0 or day > mon_day[month-1] or day < 0:\n",
    "    print(\"month error or day error\")\n",
    "    import sys\n",
    "    sys.exit()\n",
    "\n",
    "                    \n",
    "jday=0\n",
    "for mon_i in range(month-1):\n",
    "    jday+=mon_day[mon_i]\n",
    "\n",
    "jday+=day\n",
    "\n",
    "print(f\"{year}.{jday}\")"
   ]
  },
  {
   "cell_type": "code",
   "execution_count": null,
   "metadata": {},
   "outputs": [],
   "source": [
    "year=1900\n",
    "if year % 100 != 0 and year % 400 == 0 or year % 4 == 0 :\n",
    "    print(123)"
   ]
  },
  {
   "cell_type": "markdown",
   "metadata": {},
   "source": [
    "### 0.1.2 程式的命名\n",
    "Tip: 以英文字母為首，不以特殊符號當開頭，不用已存在的函式名稱當變數。\n",
    "\n",
    "\n",
    "* **駝峰命名法(CamelCase)** : 以大寫字母區分名詞\n",
    "    * 大駝峰命名: 首字大寫，FirstName, TatunVolcano，又稱Pascal命名法(PascalCase)。\n",
    "    * 小駝峰命名: 首字小寫，firstName, filterWaveform\n",
    "     \n",
    "    \n",
    "* **蛇型命名法(snake_case)** : 以底線區隔名詞\n",
    "     * first_name; Linux_try"
   ]
  },
  {
   "cell_type": "markdown",
   "metadata": {},
   "source": [
    "### 0.1.3 程式語言之分類\n",
    "程式語言可依機器依賴性(machine-dependency)區分為低階語言與高階語言。\n",
    "\n",
    "* **低階語言** : 機器依賴性是指該軟體只能在某廠牌的電腦裡運行，最省記憶體但是非常難維護，又可區分為機器語言與組合語言。\n",
    "\n",
    "    * 機器語言(machine language) : 不需要經過翻譯，電腦可以直接判讀執行。 e.g.10111001100\n",
    "    \n",
    "    * 組合語言(assembly language) : 利用助譯碼(mnemonic code)編寫，以人類語言取代部分機器語言，如以add取代機器語言中的加法。\n",
    "\n",
    "\n",
    "\n",
    "\n",
    "* **高階語言** : 較接近人類的語言，撰寫容易，維護性高，但佔記憶體較多，執行較慢。可區分為下列三種:\n",
    "\n",
    "    * 程序導向語言(procedural) : 依照程式撰寫的先後敘述與流程，一步一步完成指定工作的語言。e.g. Fortran,C\n",
    "    \n",
    "    * 物件導向語言(object-oriented) : 先建構有特定功能的物件，再將其組合在一起的語言。在發生錯誤時，只需要針對錯誤的物件進行修改，維護性高。且物件之間可獨立運作，可大幅降低重複編寫一段程式的情況。e.g. Python,C++,JAVA\n",
    "     \n",
    "    * 應用程式語言 : 某些應用程式所附屬使用的語言。e.g. google的GO語言，html環境的javascript，iso環境的swift語言。\n",
    "\n",
    "\n",
    "\n",
    "\n",
    "\n",
    "* **高階語言之翻譯** : 高階語言需要透過翻譯的過程，將程式代碼變成機器可辨識的語言，翻譯可分為兩種:\n",
    "    * 直譯器(interpreter) : 將程式代碼一行一行翻譯並執行。每次執行前都需要重新翻譯，執行效率較慢。 e.g. Python\n",
    "    * 編譯器(Compiler) : 將整個程式翻譯成機器原始碼，可透過連結其他程式，產生執行檔。使用時，只需將執行檔導入記憶體，執行效率高。e.g. Fortran\n",
    "    \n",
    "    "
   ]
  },
  {
   "cell_type": "markdown",
   "metadata": {},
   "source": [
    "### 0.1.4 物件導向語言(object-oriented programming language)\n",
    "程序導向與物件導向的差別，以蓋房子來舉例：程序導向就是從頭來，從挖地基、鋪水泥、一層一層往上蓋;而物件導向就是先建構好廚房、臥室、客廳、廁所等物件，最後再把他們拼成一間房子。\n",
    "\n",
    "\n",
    "* 物件導向語言的三大特性：封裝、繼承、多型\n",
    "    * 封裝 (Encapsulation) : 將程式邏輯藏起來，使用者只可按照要求輸入參數或是依現有介面調用參數。直白的說：對多數使用者來說，只需要知道車子加油會跑就好，不需要知道背後的原理。通常我們會以類別(Class)的方式來封裝程式。\n",
    "    \n",
    "    * 繼承 (Inheritance) : 子類別可以繼承(調用)父類別中的程式。\n",
    "    \n",
    "    * 多型 (Polymorphism) : 子類別可以依需求修改父類別中的程式。\n",
    "    \n",
    "        舉個例子來說：動物會吃飯會叫，我們依此可以定義一個動物類別(class)，裡面有兩個函式：吃飯與叫。現在可以創建一個子類別狗，狗類別可以繼承父類別的吃飯函式與叫函式，而我們可以將叫函式修改為汪汪叫函式。\n",
    "\n",
    "\n",
    "* 類別(class)與物件(object)：類別可以想像成一個藍圖，藉由藍圖生產出來的東西就稱為物件。\n",
    "         \n",
    " \n",
    "* 一個類別通常會有屬性(attribute)與方法(method)：\n",
    "    * 屬性 : 代表類別創造物件之後，物件本身的資訊，不以調用參數得到的結果，以**物件.屬性**的方式表示。e.g. obspy中的stf.stats代表地震的基本資料。\n",
    "    * 方法 : 經由函式運算得到的結果，以**物件.方法( )**表示。e.g. a.max( )表示找a資料裡面的最大值。\n",
    "   \n",
    "    \n",
    "    \n",
    "\n"
   ]
  },
  {
   "cell_type": "markdown",
   "metadata": {},
   "source": [
    "## Tip:\n",
    "    初學python者常遇到的問題是.後面是否需要加括號，請記得判斷他是否是個函式，若是，則需要加括號。\n",
    " \n",
    "    np.pi pi是常數不用算，調用時不需加（）\n",
    "    \n",
    "    np.array()\n",
    "    \n",
    "* 函式的連續使用：\n",
    "\n",
    "    EVT='2020-07-03T18:38:48.121558Z'\n",
    "    \n",
    "    str(EVTtime).split(\"T\")[0].replace(\"-\",\".\")"
   ]
  },
  {
   "cell_type": "markdown",
   "metadata": {},
   "source": [
    "## 0.2 Python\n",
    "Python is a clear and powerful object-oriented programming language, comparable to Perl, Ruby, Scheme, or Java. --(https://wiki.python.org/moin/BeginnersGuide/Overview)\n",
    "\n",
    "Stable, Easy to learn, Easy to read, Easy to plot, Easy to used, but slow. \n",
    "\n",
    "\n",
    "### 0.2.1 可運行python 的環境\n",
    "1. Anaconda \n",
    "2. VScode\n",
    "3. Linux\n",
    "\n",
    "### 0.2.2 Linux 執行 python 程式\n",
    "＄>> python name.py"
   ]
  },
  {
   "cell_type": "code",
   "execution_count": null,
   "metadata": {},
   "outputs": [],
   "source": [
    "\"\"\"\n",
    "python in linux\n",
    "在linux 文本編輯器中開始兩行請輸入：\n",
    "\n",
    "#!/usr/bin/env python3\n",
    "#-*- coding: utf-8 -*-\n",
    "\n",
    "\"\"\""
   ]
  },
  {
   "cell_type": "markdown",
   "metadata": {},
   "source": [
    "### 0.2.3 pip 安裝\n",
    "\n",
    "pip install (函式庫)"
   ]
  },
  {
   "cell_type": "markdown",
   "metadata": {},
   "source": [
    "### 0.2.4 Anaconda 虛擬環境\n",
    "\n",
    "python 是開源軟體，不同的套件適用的python函式庫版本不一定相同，所以需要虛擬環境來適應不同的套件包。\n",
    "\n",
    "https://medium.com/python4u/用conda建立及管理python虛擬環境-b61fd2a76566"
   ]
  },
  {
   "cell_type": "code",
   "execution_count": null,
   "metadata": {},
   "outputs": [],
   "source": [
    "### 建立一個虛擬環境\n",
    "#conda create --name myenv python=3.6 "
   ]
  },
  {
   "cell_type": "code",
   "execution_count": null,
   "metadata": {},
   "outputs": [],
   "source": [
    "8+9"
   ]
  },
  {
   "cell_type": "markdown",
   "metadata": {},
   "source": [
    "### 0.2.5  Jupyter 使用的技巧\n",
    "\n",
    "建構於網頁應用程式的整合開發環境，可以邊做筆記邊撰寫程式、顯示程式輸出、圖形視覺化輸出、支援 Markdown 標記語言與 LaTex 數學方程式的文字段落。\n",
    "\n",
    "* **Ctrl-Enter**  : run cell  執行這個cell\n",
    "* **Shift-Enter** : run cell, select below \n",
    "* **shift-Tab**  : user hint\n",
    "* **Tab**         : code completion or indent\n",
    "* **ctrl-Z**.     : 復原\n",
    "* **ctrl-Y**.     : 取消復原\n",
    "* **Esc-F**.      : 尋找or取代\n",
    "\n",
    "選取代碼後才有作用：\n",
    "* **Ctrl-?/** : 全部註解 或 取消整段註解 \n",
    "* **shift-tab** : 向左邊tab"
   ]
  },
  {
   "cell_type": "code",
   "execution_count": null,
   "metadata": {},
   "outputs": [],
   "source": [
    "#跳脫字元 ptyhon 不區分單引號‘與雙引號“\n",
    "\\t  Tab 鍵效果\n",
    "\\b  BackSpace 鍵效果\n",
    "\\n  換行效果\n",
    "\\r  回到開頭\n",
    "\\\\  印出\\\n",
    "\\\"  印出\"\n",
    "\\'  印出'"
   ]
  },
  {
   "cell_type": "code",
   "execution_count": null,
   "metadata": {},
   "outputs": [],
   "source": [
    "import time\n",
    "input_time=input('倒數幾秒') ### 輸入數字,input_time 的型態是字串\n",
    "input_time=int(input_time) ### 字串轉成整數\n",
    "for i in range(input_time):\n",
    "    print(f\"離程式退出還剩{input_time-1-i}秒\", end=\"\")\n",
    "    time.sleep(1)"
   ]
  },
  {
   "cell_type": "code",
   "execution_count": null,
   "metadata": {},
   "outputs": [],
   "source": [
    "import time\n",
    "for i in range(3):\n",
    "    print(\"\\r離程式退出還剩%s秒\" % (2-i), end=\"\")\n",
    "    time.sleep(1)"
   ]
  },
  {
   "cell_type": "markdown",
   "metadata": {},
   "source": [
    "### 0.2.6 python 的註解\n",
    "* 整段註解 \"\"\" \"\"\" or ''' '''\n",
    "* 單行註解 #"
   ]
  },
  {
   "cell_type": "code",
   "execution_count": null,
   "metadata": {},
   "outputs": [],
   "source": [
    "### 整段註解\n",
    "\"\"\"\n",
    "hello world\n",
    "this is comment for python program\n",
    "\"\"\""
   ]
  },
  {
   "cell_type": "markdown",
   "metadata": {},
   "source": [
    "### 0.2.7 python的特殊規則\n",
    "\n",
    "* 從0開始計算，0代表編號1，包含開頭但不包含結尾（以下使用含頭不含尾）\n",
    "\n",
    "    - [0:2]代表0，1(因為含頭不含尾，所以包含開頭（0),不包含結尾（2),間隔為1)，取到編號1與2的資料。\n",
    "    \n",
    "\n",
    "* 不寫開頭包含開頭;不寫結尾包含結尾 \n",
    "\n",
    "    假設總共三個元素，python中的編號為0，1，2\n",
    "\n",
    "    - [ : 2] 等義於 [0 : 2] 取編號0與1的資料。\n",
    "\n",
    "    - [ 1 : ] 等義於 [ 1 : 3] 取編號1與2的資料。\n",
    "\n",
    "    - [  : ] 等義於 [ 0 : 3] 取編號0與1與2的資料。\n",
    "    \n",
    "\n",
    "\n",
    "* 使用縮排（四個空格）當作流程控制的依據\n",
    "\n",
    "    - 凡出現冒號(:)者,必須要縮排。"
   ]
  },
  {
   "cell_type": "markdown",
   "metadata": {},
   "source": [
    "### 0.2.8 Next python?\n",
    "\n",
    "**Julia**\n",
    "\n",
    "**swift**"
   ]
  },
  {
   "cell_type": "markdown",
   "metadata": {},
   "source": [
    "## 0.3 import 調用函式庫(Module)\n",
    "\n",
    "* 導入整個函式庫 : import 函式庫 (as 別名)\n",
    "* 只需導入函式庫中的某一個函式 : from  函式庫 import 函式 (as 別名)\n",
    "* 導入大函式庫中的一個小函式庫: import 大函式庫.小函式庫 (as 別名)\n",
    "\n",
    "\n",
    "\n",
    "**科學計算常用到的函式庫:**\n",
    "\n",
    "import numpy as np\n",
    "https://numpy.org\n",
    "\n",
    "import scipy as sp\n",
    "https://www.scipy.org\n",
    "\n",
    "import matplotlib.pyplot as plt ##畫圖用\n",
    "https://matplotlib.org/gallery/index.html\n",
    "\n",
    "import pandas as pd ## 資料處理用\n",
    "https://pandas.pydata.org/docs/getting_started/10min.html#min\n",
    "\n",
    "import os,sys\n",
    "\n",
    "from glob import glob\n",
    "\n",
    "\n",
    "**地震學專用: obspy**\n",
    "\n",
    "from obspy import read\n",
    "\n",
    "\n"
   ]
  },
  {
   "cell_type": "code",
   "execution_count": null,
   "metadata": {},
   "outputs": [],
   "source": [
    "sin(90)"
   ]
  },
  {
   "cell_type": "markdown",
   "metadata": {},
   "source": [
    "## 0.3.1 調用函式庫Ｉ\n",
    "\n",
    "import numpy as np\n",
    "\n",
    "調用np中的function : np.func(   )\n",
    "\n",
    "調用np中的Attribute(常數) : np.Attr"
   ]
  },
  {
   "cell_type": "code",
   "execution_count": null,
   "metadata": {},
   "outputs": [],
   "source": [
    "import numpy as np"
   ]
  },
  {
   "cell_type": "code",
   "execution_count": null,
   "metadata": {},
   "outputs": [],
   "source": [
    "np.sin(90)"
   ]
  },
  {
   "cell_type": "code",
   "execution_count": null,
   "metadata": {},
   "outputs": [],
   "source": [
    "np.sin(90*np.pi/180)"
   ]
  },
  {
   "cell_type": "code",
   "execution_count": null,
   "metadata": {},
   "outputs": [],
   "source": [
    "# 查看有哪些在math裡有哪些函式可以用\n",
    "print(dir(np))"
   ]
  },
  {
   "cell_type": "markdown",
   "metadata": {},
   "source": [
    "## 0.3.2 調用函式庫 II\n",
    "\n",
    "from numpy import sin,pi\n",
    "\n",
    "直接從np調用函數所以不需要寫 np.func(   )，直接寫func(   )即可。"
   ]
  },
  {
   "cell_type": "code",
   "execution_count": null,
   "metadata": {},
   "outputs": [],
   "source": [
    "from numpy import sin,pi "
   ]
  },
  {
   "cell_type": "code",
   "execution_count": null,
   "metadata": {},
   "outputs": [],
   "source": [
    "sin(90*pi/180)"
   ]
  },
  {
   "cell_type": "markdown",
   "metadata": {},
   "source": [
    "## 0.4 Use linux command in python\n",
    "\n",
    "yn,result= getstatusoutput ( 'command   ' )\n",
    "\n",
    "yn=0 代表執行成功\n",
    "\n",
    "result 代表輸出的結果"
   ]
  },
  {
   "cell_type": "code",
   "execution_count": null,
   "metadata": {},
   "outputs": [],
   "source": [
    "from subprocess import getstatusoutput"
   ]
  },
  {
   "cell_type": "code",
   "execution_count": null,
   "metadata": {},
   "outputs": [],
   "source": [
    "a,result=getstatusoutput(\"ls\")\n",
    "print(a)\n",
    "print('-'*40)\n",
    "print(result)"
   ]
  },
  {
   "cell_type": "markdown",
   "metadata": {},
   "source": [
    "### 0.4.1 輸入參數I"
   ]
  },
  {
   "cell_type": "code",
   "execution_count": null,
   "metadata": {},
   "outputs": [],
   "source": [
    "\"\"\"\n",
    "test.csh:\n",
    "\n",
    "#!/bin/csh\n",
    "\n",
    "set aa = $1\n",
    "\n",
    "set bb = `echo $aa | awk '{print $1+1}'`\n",
    "\n",
    "echo $aa  $bb\n",
    "\"\"\""
   ]
  },
  {
   "cell_type": "code",
   "execution_count": null,
   "metadata": {},
   "outputs": [],
   "source": [
    "_,result=getstatusoutput('./test.csh {}'.format(\"10\"))\n",
    "print(result)"
   ]
  },
  {
   "cell_type": "markdown",
   "metadata": {},
   "source": [
    "### 0.4.2 輸入參數 II"
   ]
  },
  {
   "cell_type": "code",
   "execution_count": null,
   "metadata": {},
   "outputs": [],
   "source": [
    "### ttt.f90\n",
    "\"\"\"\n",
    "program ttt\n",
    "implicit none\n",
    "integer :: a,b\n",
    "\n",
    "write(*,*)'input a '\n",
    "read(*,*)a\n",
    "write(*,*)'input b '\n",
    "read(*,*)b\n",
    "write(*,*)a+b\n",
    "\n",
    "stop\n",
    "end program\n",
    "\"\"\"\n",
    "# compile : gfortran -o ttt ttt.f90 "
   ]
  },
  {
   "cell_type": "code",
   "execution_count": null,
   "metadata": {},
   "outputs": [],
   "source": [
    "'''\n",
    "ttt usage in linux csh\n",
    "\n",
    "ttt<!\n",
    "10\n",
    "10\n",
    "\n",
    "!\n",
    "'''\n",
    "a,b=getstatusoutput(f'./ttt << ! \\n {10} \\n {10} ! ')\n",
    "print(b)\n",
    "print('-'*40)\n",
    "print(b.splitlines()[-1].strip())"
   ]
  },
  {
   "cell_type": "code",
   "execution_count": null,
   "metadata": {},
   "outputs": [],
   "source": [
    "del result,a,b"
   ]
  },
  {
   "cell_type": "markdown",
   "metadata": {},
   "source": [
    "# Let's start!"
   ]
  },
  {
   "cell_type": "markdown",
   "metadata": {},
   "source": [
    "## Ch1. Variables and String"
   ]
  },
  {
   "cell_type": "markdown",
   "metadata": {},
   "source": [
    "### 1.1 Variables\n",
    "在python 中可以隨時隨地給變數，不需要事先宣告。\n",
    "* 變數的型態\n",
    "    * int\n",
    "    * float \n",
    "    * complex\n",
    "    * str\n",
    "    * bool (布林值，只有 True 和 False), Python 認定為 False 的值：False, 0, None, '', [], (), {} ，其餘都是 True\n",
    "* Tip: type() 來查看變數的型態"
   ]
  },
  {
   "cell_type": "code",
   "execution_count": null,
   "metadata": {},
   "outputs": [],
   "source": [
    "## 變數命名的規則：\n",
    "#Legal variable names:\n",
    "myvar = \"John\"\n",
    "my_var = \"John\"\n",
    "_my_var = \"John\"\n",
    "myVar = \"John\"\n",
    "MYVAR = \"John\"\n",
    "myvar2 = \"John\"\n",
    "\n",
    "#Illegal variable names:\n",
    "2myvar = \"John\"\n",
    "my-var = \"John\"\n",
    "my var = \"John\""
   ]
  },
  {
   "cell_type": "markdown",
   "metadata": {},
   "source": [
    "### 1.2 變數指定\n",
    "* Tip: 用print()螢幕輸出"
   ]
  },
  {
   "cell_type": "code",
   "execution_count": null,
   "metadata": {},
   "outputs": [],
   "source": [
    "## 變數指定I\n",
    "x=5 ; y=2\n",
    "print(x,y)"
   ]
  },
  {
   "cell_type": "code",
   "execution_count": null,
   "metadata": {},
   "outputs": [],
   "source": [
    "## 變數指定II\n",
    "x,y =5.0,2.0\n",
    "print(x,y)"
   ]
  },
  {
   "cell_type": "code",
   "execution_count": null,
   "metadata": {},
   "outputs": [],
   "source": [
    "## 變數指定III\n",
    "x=y=z=100\n",
    "print('x=',x,'y=',y,'z=',z)"
   ]
  },
  {
   "cell_type": "markdown",
   "metadata": {},
   "source": [
    "### 1.3 規則化輸出 (字串才有！！！)\n",
    "### 1.3.1. %-fotmat"
   ]
  },
  {
   "cell_type": "code",
   "execution_count": null,
   "metadata": {},
   "outputs": [],
   "source": [
    "x,y,z=100,80,0\n",
    "print('x=%7.2f y=%d z=%.1f' % (x,y,z))"
   ]
  },
  {
   "cell_type": "markdown",
   "metadata": {},
   "source": [
    "**規則化輸出 代號列表**\n",
    "\n",
    "| Format | Meaning |\n",
    "|----|-----|\n",
    "|%s     | a string  |\n",
    "|%d     | an integer |\n",
    "|%0xd     |an integer padded with x leading zeros|\n",
    "|%f|decimal notation with six decimals|\n",
    "|%e |compact scientific notation, e in the exponent |\n",
    "|%E |compact scientific notation, E in the exponent |\n",
    "|%g |compact decimal or scientific notation (with e)|\n",
    "|%G |compact decimal or scientific notation (with E)|\n",
    "|%xz| format z right-adjusted in a field of width x |\n",
    "|%-xz| format z left-adjusted in a field of width x |\n",
    "|%.yz |format z with y decimals|\n",
    "|%x.yz| format z with y decimals in a field of width x |\n",
    "|%% |the percentage sign % itself|"
   ]
  },
  {
   "cell_type": "markdown",
   "metadata": {},
   "source": [
    "### 1.3.2. ( ).format\n",
    "\n",
    "format(x,y,z) 對應編號 x=0, y=1 , z=2\n",
    "\n",
    "'x={1} y={2} z={0}'.format(x,y,z)會輸出x=y的值;y=z的值;z=x的值\n"
   ]
  },
  {
   "cell_type": "code",
   "execution_count": null,
   "metadata": {},
   "outputs": [],
   "source": [
    "x,y,z=100,80,0\n",
    "print('x={} y={} z={}'.format(x,y,z))\n",
    "print('x={:7.2f} y={} z={}'.format(x,y,z))\n",
    "print('x={1} y={2} z={0}'.format(x,y,z))\n",
    "print('x={a} y={b} z={c}'.format(a=x,b=y,c=z))"
   ]
  },
  {
   "cell_type": "markdown",
   "metadata": {},
   "source": [
    "## 1.3.3. f-string 最推薦使用\n",
    "\n",
    "format : f\"  { } \" \n",
    "\n",
    "{  } 內可運算\n",
    "\n",
    "跑得最快！又最直觀！"
   ]
  },
  {
   "cell_type": "code",
   "execution_count": null,
   "metadata": {},
   "outputs": [],
   "source": [
    "### 最推薦使用\n",
    "x,y,z=100,80,0\n",
    "print(f\"x={x:.2f} y={y:d} z={z:.1f}\")\n",
    "print(f\"x+y={x+y}\")"
   ]
  },
  {
   "cell_type": "markdown",
   "metadata": {},
   "source": [
    "### 1.4 輸出的間隔"
   ]
  },
  {
   "cell_type": "code",
   "execution_count": null,
   "metadata": {},
   "outputs": [],
   "source": [
    "print(1,2,3,4)\n",
    "print(1,2,3,4,sep='*')\n",
    "print(1,2,3,4,sep=' ')\n",
    "print(1,2,3,4,sep='*',end='&')"
   ]
  },
  {
   "cell_type": "markdown",
   "metadata": {},
   "source": [
    "### 1.5 變數的型態"
   ]
  },
  {
   "cell_type": "code",
   "execution_count": null,
   "metadata": {},
   "outputs": [],
   "source": [
    "##變數的型態\n",
    "x=5 ; y=2.0 ; z=5+2j ; a='hello' ; b=True\n",
    "print('x type is ', type(x) )\n",
    "print('y type is ', type(y) )\n",
    "print('z type is ', type(z) )\n",
    "print('a type is ', type(a) )\n",
    "print('b type is ', type(b) )"
   ]
  },
  {
   "cell_type": "markdown",
   "metadata": {},
   "source": [
    "### 1.5.1 變更變數的型態\n",
    "\n",
    "* str( ) : to string\n",
    "\n",
    "* int( ) : to integer\n",
    "\n",
    "* float( ) : to float"
   ]
  },
  {
   "cell_type": "code",
   "execution_count": null,
   "metadata": {},
   "outputs": [],
   "source": [
    "x=5\n",
    "print('x is {} whose type is {}'.format(x,type(x)))\n",
    "x1=str(x)\n",
    "print('x1 is {} whose type is {}'.format(x1,type(x1)))\n",
    "y1=int(x1)\n",
    "print('y1 is {} whose type is {}'.format(y1,type(y1)))\n",
    "x2=float(x)\n",
    "print('x2 is {} whose type is {}'.format(x2,type(x2)))"
   ]
  },
  {
   "cell_type": "markdown",
   "metadata": {},
   "source": [
    "### 1.6 變數換行 "
   ]
  },
  {
   "cell_type": "code",
   "execution_count": null,
   "metadata": {},
   "outputs": [],
   "source": [
    "## 1.利用 \"\\\" 打完\\之後要馬上換行，\\後面不能有空格\n",
    "A=1+2+3\\\n",
    "    +4+5\n",
    "print(A)\n",
    "\n",
    "## 2.利用()\n",
    "B=(1+2 ### \n",
    "  +3+4\n",
    "  +5)\n",
    "print(B)"
   ]
  },
  {
   "cell_type": "markdown",
   "metadata": {},
   "source": [
    "### 1.7 消除變數\n",
    "\n",
    "del "
   ]
  },
  {
   "cell_type": "code",
   "execution_count": null,
   "metadata": {},
   "outputs": [],
   "source": [
    "x=5\n",
    "print('x is ',x)\n",
    "del x\n",
    "print('x is ',x)"
   ]
  },
  {
   "cell_type": "markdown",
   "metadata": {},
   "source": [
    "### Test : \n",
    "\n",
    "設定一個變數(型態不限)並用 f-string 輸出變數 and 變數的型態,最後消除變數。"
   ]
  },
  {
   "cell_type": "code",
   "execution_count": null,
   "metadata": {},
   "outputs": [],
   "source": [
    "### write you code there\n"
   ]
  },
  {
   "cell_type": "markdown",
   "metadata": {},
   "source": [
    "##  1.8 String \n",
    "由“ ” or ' ' 包住的文字數字均為字串，字串(string)可以用\"+\"連接。"
   ]
  },
  {
   "cell_type": "code",
   "execution_count": null,
   "metadata": {},
   "outputs": [],
   "source": [
    "a='hello';b=\"world\"\n",
    "print(a)\n",
    "print(b)\n",
    "print(a+b)\n",
    "print(a+' '+b)"
   ]
  },
  {
   "cell_type": "markdown",
   "metadata": {},
   "source": [
    "### 1.9 字串的擴增"
   ]
  },
  {
   "cell_type": "code",
   "execution_count": null,
   "metadata": {},
   "outputs": [],
   "source": [
    "#字串的擴增\n",
    "a=''\n",
    "print(\"a1 is \",a)\n",
    "a=a+'Hi'\n",
    "print(\"a2 is \",a)"
   ]
  },
  {
   "cell_type": "markdown",
   "metadata": {},
   "source": [
    "### 1.10 字串的編號\n",
    "\n",
    "* Tip: python 從0開始計算個數,算頭不算尾\n",
    "e.g. \n",
    "\n",
    "x = HelLo\n",
    "\n",
    "n = 01234 (編號)\n"
   ]
  },
  {
   "cell_type": "code",
   "execution_count": null,
   "metadata": {},
   "outputs": [],
   "source": [
    "x='HelLo'\n",
    "print('x[0] is',x[0])\n",
    "print('x[1] is',x[1])\n",
    "print('x[1:4] is',x[1:4]) ### python 算頭不算尾,所以包含編號 1 不包含編號 4 \n",
    "print('x[1:4] is',x[1:4:2]) ### 取 1 ~ 3 間隔 2 所以取到 1 3\n",
    "print('x[:4] is',x[:4]) ### x[:4]等義於 x[0:4]，不寫包含開頭\n",
    "print('x[1:] is',x[1:]) ### x[1:]等義於 x[1:5]，不寫包含最後\n",
    "print('x[:] is',x[:]) ### x[:]等義於 x 全部輸出\n",
    "print('x[::-1]',x[::-1]) ### [:(開頭):(結尾)-1(間隔)] 文字倒敘"
   ]
  },
  {
   "cell_type": "markdown",
   "metadata": {},
   "source": [
    "### 1.10.1 文字的倒敘\n",
    "x = HelLo\n",
    "\n",
    "n = 01234 (編號)\n",
    "\n",
    "n =-5 -4 -3 -2 -1 (倒敘編號)"
   ]
  },
  {
   "cell_type": "code",
   "execution_count": null,
   "metadata": {},
   "outputs": [],
   "source": [
    "print('x[::-1]',x[::-1]) ### [(開頭):(結尾): -1(間隔)] 開頭不寫包含開頭，結尾不寫包含結尾，文字倒敘\n",
    "print('x[4:2:-1]',x[4:2:-1]) ### [4:2: -1(間隔)]從編號4寫到編號3（2不算因為含頭不含尾，文字倒敘"
   ]
  },
  {
   "cell_type": "markdown",
   "metadata": {},
   "source": [
    "### 1.11 string function (by yourself)\n",
    "\n",
    "https://www.programiz.com/python-programming/strings-method"
   ]
  },
  {
   "cell_type": "code",
   "execution_count": null,
   "metadata": {},
   "outputs": [],
   "source": [
    "# x='Hello world! \\n 4'\n",
    "# print(x)\n",
    "# print(\"x.count('l') is \", x.count('l') ) ## 計算x中“l\"的個數\n",
    "# print(\"x.index('l') is \", x.index('l')) ## 計算‘l’位在x第幾個位子,若無會報錯\n",
    "# print(\"x.find('e') is \", x.find('e')) ## 計算'e'在x中有幾個，若無會顯示-1\n",
    "# print(\"len(x) is \",len(x)) ## 計算x的長度\n",
    "# print(\"x.split('e') is \",x.split('e')) ##以“e”切開x,並返回列表 \n",
    "\n",
    "\n",
    "# print(\"-\"*40)\n",
    "# x='Hello world! \\n 4'\n",
    "# print(x)\n",
    "# print(x.splitlines()) ## 以換行符號 (\\n)切開, 並返回列表\n",
    "\n",
    "\n",
    "# x=\"001sdf100\"\n",
    "# print(x.strip('1')) ### 同時切字首字尾，默認是換行符號或空格\n",
    "\n",
    "\n",
    "# print(\"-\"*40)\n",
    "# s=':'\n",
    "# print(s.join(['1','2','3'])) ## 將s加入到後面的string list 中\n",
    "# s='>>'\n",
    "# print(s.join({'a','c','b'}))\n",
    "\n",
    "### Zfill\n",
    "# d='5'\n",
    "# print(d.zfill(2))\n",
    "# print(d.zfill(3))"
   ]
  },
  {
   "cell_type": "markdown",
   "metadata": {},
   "source": [
    "### TEST \n",
    "'''\n",
    "1.生成一個字串 \"Python,is,fun\",並用變數[:]的形式取出 python \n",
    "2. 使用倒敘([-1])的方式取出 fun\n",
    "'''"
   ]
  },
  {
   "cell_type": "code",
   "execution_count": null,
   "metadata": {},
   "outputs": [],
   "source": [
    "### write your code there\n",
    "\n"
   ]
  },
  {
   "cell_type": "markdown",
   "metadata": {},
   "source": [
    "## ch2. Operators 運算子\n",
    "* Arithmetic : +,-, * ,/,%, ** ,//(floor division)\n",
    "* Comparision : <,<=,>=,>,==,!=\n",
    "* Logical : and, or, not\n",
    "* Assignment: =, +=, -+, *=, /=, %=,**=,//=\n",
    "* Membership: in ; not in\n",
    "    * x=[12,5,8]; print(5 in x) ; print(15 not in x)\n",
    "* Identity: is; is not\n",
    "    * x1=5;y1=5; print(x1 is not y1); print(x1 is y1)"
   ]
  },
  {
   "cell_type": "markdown",
   "metadata": {},
   "source": [
    "### 2.1 Arithmetic Operators 算術運算子\n",
    "| Symbol | Task Performed |\n",
    "|----|---|\n",
    "| +  | Addition |\n",
    "| -  | Subtraction |\n",
    "| *  | multiplication |\n",
    "| /  | division |\n",
    "| %  | mod （取餘數） |\n",
    "| //  | floor division （取商數） |\n",
    "| **  | to the power of |"
   ]
  },
  {
   "cell_type": "code",
   "execution_count": null,
   "metadata": {},
   "outputs": [],
   "source": [
    "### calculate\n",
    "x=5\n",
    "y=2\n",
    "print(f\"x={x},y={y}\")\n",
    "print(\"-\"*40)\n",
    "print('x+y =',x+y)\n",
    "print('x-y =',x-y)\n",
    "print('x*y =',x*y)\n",
    "print('x/y =',x/y)\n",
    "print('x//y =',x//y) ## 地板除法（取商數）\n",
    "print('x%y =',x%y)\n",
    "print('x**y =',x**y)\n",
    "# complex numbers: note the use of `j` to specify the imaginary part\n",
    "print('complex',complex(x,y))"
   ]
  },
  {
   "cell_type": "markdown",
   "metadata": {},
   "source": [
    "### 2.2  **Assignment operator** 指定運算子\n",
    "\n",
    "| operator | example | same as |\n",
    "|----|---|---|\n",
    "| = | x = 5 | x = 5 |\n",
    "| += |x += 3| x = x + 3 |\n",
    "| -=  | x -= 3 | x = x - 3 | \n",
    "| *=  |\tx *= 3 |x = x * 3|\n",
    "| /=  | x /= 3| \tx = x / 3 | "
   ]
  },
  {
   "cell_type": "code",
   "execution_count": null,
   "metadata": {},
   "outputs": [],
   "source": [
    "x=10\n",
    "x=x+1\n",
    "print(x)\n",
    "print(\"-\"*40)\n",
    "x=10\n",
    "x+=1\n",
    "print(x)"
   ]
  },
  {
   "cell_type": "markdown",
   "metadata": {},
   "source": [
    "### 2.3  **Comparision operator** 比較運算子\n",
    "比較值的大小，輸出布林值 (True or False)\n",
    "\n",
    "\n",
    "python 中 False 有 False, 0, None, '',[], (), {}，其餘都是 True\n",
    "\n",
    "\n",
    "| operator | example | OUTPUT |\n",
    "|----|---|---|\n",
    "| > | 5 > 3 | True |\n",
    "| >= |5 >= 3| True |\n",
    "| <  | 3 < 3 | False | \n",
    "| <=  |\t3 <= 3 |True|\n",
    "| !=  | 5 != 3| True | \n",
    "| ==  |\t5 == 3 |False|"
   ]
  },
  {
   "cell_type": "code",
   "execution_count": null,
   "metadata": {},
   "outputs": [],
   "source": [
    "print(\"5 > 3 is \", 5 > 3 )\n",
    "print(\"5 >= 3 is \",5 >= 3 )\n",
    "print(\"3 < 3 is \",3 < 3 )\n",
    "print(\"3 <= 3 is \",3 <= 3 )\n",
    "print(\"5 != 3 is \",5 != 3 )\n",
    "print(\"5 == 3 is \",5 == 3 )"
   ]
  },
  {
   "cell_type": "markdown",
   "metadata": {},
   "source": [
    "### 2.4  **Logical operator** 邏輯運算子\n",
    "只有三個:  and, or, not,判斷之後輸出布林值。\n",
    "判斷的先後順序: not > and > or\n",
    "\n",
    "\n",
    "|  example  | OUTPUT |\n",
    "|----|---|\n",
    "| True and True | True |\n",
    "| True and False | False |\n",
    "| False and False | False | \n",
    "| True or True\t | True |\n",
    "| True or False | True | \n",
    "| False or False |False|\n",
    "| not False |True|\n",
    "| not True | False |"
   ]
  },
  {
   "cell_type": "code",
   "execution_count": null,
   "metadata": {},
   "outputs": [],
   "source": [
    "'''\n",
    "判斷的先後順序: not > and > or\n",
    "\n",
    "print(True or False and not False)\n",
    "\n",
    "step 1 : not\n",
    "\n",
    "not False >>> True\n",
    "\n",
    "print(True or False and **not False**) >>> print(True or False and True)\n",
    "\n",
    "\n",
    "step 2 : and\n",
    "\n",
    "False and True >>> False\n",
    "\n",
    "print(True or **False and True**) >>> print(True or False)\n",
    "\n",
    "\n",
    "\n",
    "step 3 : or \n",
    "\n",
    "True or False >>> True\n",
    "\n",
    "print(True or False) >>> print(True)\n",
    "\n",
    "the result is True\n",
    "\n",
    "'''\n",
    "\n",
    "print(True or False and not False)"
   ]
  },
  {
   "cell_type": "code",
   "execution_count": null,
   "metadata": {},
   "outputs": [],
   "source": [
    "mon_day=[31,28,31,30,31,30,31,31,30,31,30,31]\n",
    "                    \n",
    "if year % 400 == 0 or year % 100 != 0 and year % 4 == 0 :\n",
    "    mon_day[1]=29"
   ]
  },
  {
   "cell_type": "markdown",
   "metadata": {},
   "source": [
    "###  2.5 **Membership operator**\n",
    "* Membership: in ; not in , a in b 查看是否b包含a"
   ]
  },
  {
   "cell_type": "code",
   "execution_count": null,
   "metadata": {},
   "outputs": [],
   "source": [
    "x=[12,5,8]\n",
    "print(5 in x) ; print(15 not in x)\n",
    "print(\"-\"*40)\n",
    "x='Hello'\n",
    "print('H' in x) ; print('h' in x)"
   ]
  },
  {
   "cell_type": "markdown",
   "metadata": {},
   "source": [
    "###  2.6 **Identity operator**\n",
    "* Identity: is; is not , is 的功用在於查看是否在同一個內存裡，\n",
    "is 查看**內存地址**是否相同 ; == 查看**內容**是否相同"
   ]
  },
  {
   "cell_type": "code",
   "execution_count": null,
   "metadata": {},
   "outputs": [],
   "source": [
    "x=123\n",
    "print(\"x的內存地址是\",id(x)) #id 顯示 10進位內存地址\n",
    "y=123\n",
    "print(\"y的內存地址是\",id(y))\n",
    "print(\"x與y的內容相同嗎?\",x == y)\n",
    "print(\"x與y的內存地址相同嗎?\",x is y)\n",
    "\n",
    "print(\"-\" * 40)\n",
    "\n",
    "x1=[1,2,3]\n",
    "print(\"x1的內存地址是\",id(x1))\n",
    "x2=[1,2,3]\n",
    "print(\"x2的內存地址是\",id(x2))\n",
    "print(\"x1與x2的內容相同嗎?\",x1 == x2)\n",
    "print(\"x1與x2的內存地址相同嗎?\",x1 is x2)"
   ]
  },
  {
   "cell_type": "markdown",
   "metadata": {},
   "source": [
    "## ch 3. Python Collections \n",
    "\n",
    "除了一般的文字與數字，變數種類還有list,tuple,set,dictionary。\n",
    "* Tips : list,tuple,set,dictionary 可看作是裝變數的容器。\n",
    "\n",
    "\n",
    "* list 串列 : 有順序可變動可重複的列表,以[ ]表示。\n",
    "* tuple 元組 : 有順序不可變動可重複的列表,以( )表示。\n",
    "* set 集合 : 無順序可變動不可重複的列表,以{ }表示。\n",
    "* dictionary 字典 : 鍵值對 (key-value pair) 構成的可變長度有序群集,以兩欄多列的方式存在，以{key:value}表示。"
   ]
  },
  {
   "cell_type": "markdown",
   "metadata": {},
   "source": [
    "| Collections | 有無順序 (order) | 可否改變元素 | 可否重複 |\n",
    "|----|---|---|---|\n",
    "| List [  ]| 有序| 可變 | 可重複 |\n",
    "| tuple (  ) | 有序 | 不可變 | 可重複 |\n",
    "| set {  } | 沒有序 | 可變 | 不可重複 |\n",
    "| dictionary {key : value}  | 有序 |\t可變 | 可重複 |\n"
   ]
  },
  {
   "cell_type": "markdown",
   "metadata": {},
   "source": [
    "### 3.1 List [   ]\n",
    "其元素可以是任何物件, 亦即允許不同型別之異質元素 (heterogeneous), 包括串列甚至函數都可以, 且可以隨時新增或移除元素. 為了可存放異質元素, 其資料以較稀疏的形式存放, 故所佔之記憶空間也比 C 語言中的相同型別 (同質) 陣列要大."
   ]
  },
  {
   "cell_type": "code",
   "execution_count": null,
   "metadata": {},
   "outputs": [],
   "source": [
    "a=['a', 2.2, 5]\n",
    "print(type(a))"
   ]
  },
  {
   "cell_type": "markdown",
   "metadata": {},
   "source": [
    "### 3.1.1 更改list的元素"
   ]
  },
  {
   "cell_type": "code",
   "execution_count": null,
   "metadata": {},
   "outputs": [],
   "source": [
    "a=[1,2,3]\n",
    "print(\"a[0]=\",a[0])\n",
    "\n",
    "a[0]='ss'\n",
    "print(\"a[0]=ss,\",a)"
   ]
  },
  {
   "cell_type": "markdown",
   "metadata": {},
   "source": [
    "### 3.1.2 list的擴增"
   ]
  },
  {
   "cell_type": "code",
   "execution_count": null,
   "metadata": {},
   "outputs": [],
   "source": [
    "### list append 添加元素\n",
    "print(\"a=\",a)\n",
    "a.append(4)\n",
    "print(\"a.append=\",a)\n",
    "print(\"len(a)=\",len(a))\n",
    "\n",
    "### list 合併I\n",
    "b=[\"C\",12,2.3]\n",
    "a.extend(b)\n",
    "print(a)\n",
    "\n",
    "### list 合併II\n",
    "c=a+b\n",
    "print(c)"
   ]
  },
  {
   "cell_type": "markdown",
   "metadata": {},
   "source": [
    "### 3.1.3 list 巢狀結構"
   ]
  },
  {
   "cell_type": "code",
   "execution_count": null,
   "metadata": {},
   "outputs": [],
   "source": [
    "c=[a,b]\n",
    "print(c)\n",
    "print(c[0][0]) ### c[0]代表第一個元素，剛好第一個元素是list，也可以拿裡面的元素。 c[0][0]第一個元素列表中的第一個元素"
   ]
  },
  {
   "cell_type": "markdown",
   "metadata": {},
   "source": [
    "### 3.1.4 membership operator and list"
   ]
  },
  {
   "cell_type": "code",
   "execution_count": null,
   "metadata": {},
   "outputs": [],
   "source": [
    "a=[1,2,3]\n",
    "print(1 in a)\n",
    "print(4 not in a)"
   ]
  },
  {
   "cell_type": "markdown",
   "metadata": {},
   "source": [
    "#### list fucntion (by yourself)\n",
    "from https://www.w3schools.com/python/python_ref_list.asp\n",
    "\n",
    "\n",
    "| Method | Description |\n",
    "|-----|---------------|\n",
    "|append()| Adds an element at the end of the list|\n",
    "|clear()| Removes all the elements from the list|\n",
    "|copy()| Returns a copy of the list|\n",
    "|count()| Returns the number of elements with the specified value|\n",
    "|extend()|\tAdd the elements of a list (or any iterable), to the end of the current list|\n",
    "|index()|\tReturns the index of the first element with the specified value|\n",
    "|insert()|\tAdds an element at the specified position|\n",
    "|pop()|\tRemoves the element at the specified position|\n",
    "|remove()|\tRemoves the first item with the specified value|\n",
    "|reverse()|\tReverses the order of the list|\n",
    "|sort()|\tSorts the list|"
   ]
  },
  {
   "cell_type": "markdown",
   "metadata": {},
   "source": [
    "### TEST\n",
    "\"\"\"\n",
    "1.生成一個list,顯示它的長度(len)\n",
    "\n",
    "2.將他的第三個元素改成”good“\n",
    "\n",
    "3.添加一個元素給他\n",
    "\"\"\""
   ]
  },
  {
   "cell_type": "code",
   "execution_count": null,
   "metadata": {},
   "outputs": [],
   "source": [
    "### write your code there\n",
    "\n"
   ]
  },
  {
   "cell_type": "markdown",
   "metadata": {},
   "source": [
    "### 3.2 tuple (   )\n",
    "元組，可以想像成不可變的列表。"
   ]
  },
  {
   "cell_type": "code",
   "execution_count": null,
   "metadata": {},
   "outputs": [],
   "source": [
    "a=(1,2,3)\n",
    "b=(4,5,6)\n",
    "print(type(a))\n",
    "print(a+b) ### 合併沒有更改tuple的內容"
   ]
  },
  {
   "cell_type": "code",
   "execution_count": null,
   "metadata": {},
   "outputs": [],
   "source": [
    "### 會報錯的程式\n",
    "a=(1,2,3)\n",
    "a.append(4)"
   ]
  },
  {
   "cell_type": "markdown",
   "metadata": {},
   "source": [
    "### 3.2.1 tuple and string"
   ]
  },
  {
   "cell_type": "code",
   "execution_count": null,
   "metadata": {},
   "outputs": [],
   "source": [
    "### tuple and string\n",
    "thistuple = (\"apple\",)\n",
    "print(type(thistuple))\n",
    "\n",
    "#NOT a tuple\n",
    "thistuple = (\"apple\")\n",
    "print(type(thistuple))"
   ]
  },
  {
   "cell_type": "markdown",
   "metadata": {},
   "source": [
    "### 3.2.2 tuple function (by yourself)"
   ]
  },
  {
   "cell_type": "code",
   "execution_count": null,
   "metadata": {},
   "outputs": [],
   "source": [
    "\"\"\"\n",
    "index(7) 顯示第一個為7的位置\n",
    "count(1) 計算1的個數\n",
    "\"\"\"\n",
    "thistuple = (1, 3, 7, 8, 7, 5, 4, 6, 8, 5)\n",
    "x = thistuple.index(7)\n",
    "print(x)\n",
    "\n",
    "y=thistuple.count(1)\n",
    "print(y)\n",
    "\n",
    "print(thistuple[-4:-1])"
   ]
  },
  {
   "cell_type": "markdown",
   "metadata": {},
   "source": [
    "### 3.3 set { }\n",
    "\n",
    "集合，概念與高中數學之集合相同。 無序無重複的列表。\n",
    "\n",
    "<img src=\"images/union.png\" width=400>\n",
    "\n",
    "https://www.itread01.com/content/1573005722.html"
   ]
  },
  {
   "cell_type": "code",
   "execution_count": null,
   "metadata": {},
   "outputs": [],
   "source": [
    "a={3,4,5,5}\n",
    "print(a)"
   ]
  },
  {
   "cell_type": "code",
   "execution_count": null,
   "metadata": {},
   "outputs": [],
   "source": [
    "### 會報錯的錯的程式\n",
    "a[0]"
   ]
  },
  {
   "cell_type": "markdown",
   "metadata": {},
   "source": [
    "### 3.3.1 set的擴增"
   ]
  },
  {
   "cell_type": "code",
   "execution_count": null,
   "metadata": {},
   "outputs": [],
   "source": [
    "a={3,4,5}\n",
    "a.add('good')\n",
    "print(a)"
   ]
  },
  {
   "cell_type": "code",
   "execution_count": null,
   "metadata": {},
   "outputs": [],
   "source": [
    "setA = {1, 6, 8, 10, 20}\n",
    "setB = {1, 3, 8, 10}\n",
    "\n",
    "# 以下兩個都是 聯集 的寫法\n",
    "print(setA.union(setB))\n",
    "print(setA | setB)\n",
    "\n",
    "# 以下兩個都是 交集 的寫法\n",
    "print(setA.intersection(setB))\n",
    "print(setA & setB)\n",
    "\n",
    "# 以下兩個都是 差集 的寫法\n",
    "print(setA.difference(setB))\n",
    "print(setA - setB)\n",
    "\n",
    "# 以下兩個都是 對稱差集 的寫法\n",
    "print(setA.symmetric_difference(setB))\n",
    "print(setA ^ setB)"
   ]
  },
  {
   "cell_type": "markdown",
   "metadata": {},
   "source": [
    "### 3.4 dictionary {key : Value}\n",
    "\n",
    "字典是一種可變容器，可以儲存任意對象，字典的key-value pair 用：分隔; 每個pair用 , 分隔。\n",
    "\n"
   ]
  },
  {
   "cell_type": "code",
   "execution_count": null,
   "metadata": {},
   "outputs": [],
   "source": [
    "fruits={\"apple\":12,\"banana\":10}\n",
    "print(fruits[\"apple\"])\n",
    "print('-'*20)\n",
    "print(fruits.get(\"apple\"))"
   ]
  },
  {
   "cell_type": "code",
   "execution_count": null,
   "metadata": {},
   "outputs": [],
   "source": [
    "## 利用dict生成字典\n",
    "fruit2=dict(mango=100,cherry=\"john\",pineapple='3.14')\n",
    "print(fruit2)"
   ]
  },
  {
   "cell_type": "markdown",
   "metadata": {},
   "source": [
    "### 3.4.1 dict 的內容\n",
    "\n",
    "字典有兩個參數（key and value)"
   ]
  },
  {
   "cell_type": "code",
   "execution_count": null,
   "metadata": {},
   "outputs": [],
   "source": [
    "print(fruit2.values()) ### 顯示所有的value\n",
    "print(fruit2.keys()) ### 顯示所有的key\n",
    "print(fruit2.items()) ### 顯示所有的key value"
   ]
  },
  {
   "cell_type": "markdown",
   "metadata": {},
   "source": [
    "### 3.4.2 dict的擴增"
   ]
  },
  {
   "cell_type": "code",
   "execution_count": null,
   "metadata": {},
   "outputs": [],
   "source": [
    "fruit2[\"color\"] = \"red\"\n",
    "print(fruit2)"
   ]
  },
  {
   "cell_type": "markdown",
   "metadata": {},
   "source": [
    "### 3.4.3 字典的刪減"
   ]
  },
  {
   "cell_type": "code",
   "execution_count": null,
   "metadata": {},
   "outputs": [],
   "source": [
    "fruit2=dict(mango=100,cherry=\"john\",pineapple='3.14')\n",
    "x=fruit2.popitem() ### 從最後一個開始刪除，然後被x接住\n",
    "print(fruit2)\n",
    "print(x)"
   ]
  },
  {
   "cell_type": "markdown",
   "metadata": {},
   "source": [
    "### 3.4.4 dict 巢狀結構"
   ]
  },
  {
   "cell_type": "code",
   "execution_count": null,
   "metadata": {},
   "outputs": [],
   "source": [
    "bob=dict(age=18,like='earth')\n",
    "kate=dict(age=19,like='fire')\n",
    "ellen=dict(age=17,like='air')\n",
    "louisa=dict(age=20,like='water')\n",
    "\n",
    "people=dict(bob=bob,kate=kate,ellen=ellen,louisa=louisa)\n",
    "print(people)\n",
    "print(people['bob']['like'])"
   ]
  },
  {
   "cell_type": "markdown",
   "metadata": {},
   "source": [
    "### 3.5 collection的轉換\n",
    "\n",
    "list( ) : to list\n",
    "\n",
    "set( ) : to set\n",
    "\n",
    "tuple( ) : to tuple"
   ]
  },
  {
   "cell_type": "code",
   "execution_count": null,
   "metadata": {},
   "outputs": [],
   "source": [
    "x=[1,2,3,3,4]\n",
    "print(set(x))\n",
    "print(tuple(x))"
   ]
  },
  {
   "cell_type": "markdown",
   "metadata": {},
   "source": [
    "### TEST \n",
    "\"\"\"\n",
    "1. 生成一個字典，並用key把他的value叫出來。\n",
    "\"\"\""
   ]
  },
  {
   "cell_type": "code",
   "execution_count": null,
   "metadata": {},
   "outputs": [],
   "source": [
    "### write your code there\n"
   ]
  },
  {
   "cell_type": "markdown",
   "metadata": {},
   "source": [
    "## ch 4. 流程控制(if,for,while)\n",
    "python 使用縮排(四個空格)來當作迴圈的內容。\n",
    "\n",
    "凡出現冒號(:)者,必須要縮排。\n",
    "\n",
    "**記得要寫冒號！！！**\n",
    "\n"
   ]
  },
  {
   "cell_type": "markdown",
   "metadata": {},
   "source": [
    "### 4.1 if\n",
    "\n",
    "if bool :\n",
    "\n",
    "    statement1\n",
    "    \n",
    "elif bool :\n",
    "\n",
    "    statement2\n",
    "\n",
    "else: (這個：最容易忘記)\n",
    "\n",
    "    statement3\n",
    "\n"
   ]
  },
  {
   "cell_type": "code",
   "execution_count": null,
   "metadata": {},
   "outputs": [],
   "source": [
    "a=10\n",
    "b=10\n",
    "\n",
    "if a < b :\n",
    "    print(a,\"<\",b)\n",
    "elif a > b :\n",
    "    print(a,\">\",b)\n",
    "else:\n",
    "    print(a,\"=\",b)"
   ]
  },
  {
   "cell_type": "markdown",
   "metadata": {},
   "source": [
    "### 4.1.1 if short hand I\n",
    "\n",
    "如果只有一行的if 可以寫成：\n",
    "\n",
    "if bool : statement1"
   ]
  },
  {
   "cell_type": "code",
   "execution_count": null,
   "metadata": {},
   "outputs": [],
   "source": [
    "a,b=5,10\n",
    "if a < b : print(a,\"<\",b)"
   ]
  },
  {
   "cell_type": "markdown",
   "metadata": {},
   "source": [
    "### 4.1.2 if short hand II\n",
    "\n",
    "如果是兩行以上的判斷： **if 放後面**\n",
    "\n",
    "if bool :\n",
    "\n",
    "    statement1\n",
    "    \n",
    "else :\n",
    "\n",
    "    statement2\n",
    "  \n",
    "  \n",
    "  \n",
    "**short hand**:\n",
    "\n",
    "statement1 if bool else statement2"
   ]
  },
  {
   "cell_type": "code",
   "execution_count": null,
   "metadata": {},
   "outputs": [],
   "source": [
    "a,b=10,10\n",
    "print(\"a<b\") if a < b else print(\"a>=b\")"
   ]
  },
  {
   "cell_type": "markdown",
   "metadata": {},
   "source": [
    "### 4.1.2 if short hand III\n",
    "\n",
    "\n",
    "if bool1 :\n",
    "\n",
    "    statement1\n",
    "    \n",
    "elif bool2 :\n",
    "\n",
    "    statement2\n",
    "else :\n",
    "    statement3\n",
    "  \n",
    "  \n",
    "  \n",
    "**short hand**:\n",
    "\n",
    "statement1 if bool1 **/** else statement2 if bool2 **/** else statemt3"
   ]
  },
  {
   "cell_type": "code",
   "execution_count": null,
   "metadata": {},
   "outputs": [],
   "source": [
    "a,b=10,10\n",
    "print(\"a<b\") if a < b else print(\"a=b\") if a==b else print(\"a>b\")"
   ]
  },
  {
   "cell_type": "markdown",
   "metadata": {},
   "source": [
    "### TEST\n",
    "\"\"\"\n",
    "任意給一個列表(list)，如果列表的長度在3以下,輸出全部的列表，若在3~5之間，輸出前三個元素，超過五個輸出too many\n",
    "\"\"\""
   ]
  },
  {
   "cell_type": "code",
   "execution_count": null,
   "metadata": {},
   "outputs": [],
   "source": [
    "### write your code there\n"
   ]
  },
  {
   "cell_type": "markdown",
   "metadata": {},
   "source": [
    "### 4.2 for 迴圈\n",
    "\n",
    "可以跑for 迴圈的變數類別（iterable) : string, list, tuple, set, dict\n",
    "\n",
    "\n",
    "for item in []:\n",
    "\n",
    "    statement"
   ]
  },
  {
   "cell_type": "code",
   "execution_count": null,
   "metadata": {},
   "outputs": [],
   "source": [
    "for x in [1,2,3]:\n",
    "    print(x)"
   ]
  },
  {
   "cell_type": "code",
   "execution_count": null,
   "metadata": {},
   "outputs": [],
   "source": [
    "for char in \"Hello\":\n",
    "    print(char)"
   ]
  },
  {
   "cell_type": "code",
   "execution_count": null,
   "metadata": {},
   "outputs": [],
   "source": [
    "fruits={\"apple\":12,\"banana\":10}\n",
    "for fruit,value in fruits.items():\n",
    "    print(f'{fruit} 一斤 {value:d} 元')"
   ]
  },
  {
   "cell_type": "code",
   "execution_count": null,
   "metadata": {},
   "outputs": [],
   "source": [
    "### 節省記憶體\n",
    "from glob import glob \n",
    "\n",
    "for txt in glob('*.txt'):\n",
    "    print(txt)"
   ]
  },
  {
   "cell_type": "markdown",
   "metadata": {},
   "source": [
    "### 4.2.1 range function\n",
    "range(start,end,step)，預設start=0 , step=1\n",
    "\n",
    "輸出一個整數的列表(generator)"
   ]
  },
  {
   "cell_type": "code",
   "execution_count": null,
   "metadata": {},
   "outputs": [],
   "source": [
    "for x in range(10):\n",
    "    print(x)"
   ]
  },
  {
   "cell_type": "markdown",
   "metadata": {},
   "source": [
    "### 4.2.2 enumerate function\n",
    "\n",
    "enumerate(   )\n",
    "\n",
    "將可以跑for 迴圈的變數類別賦予編號，從0開始。因為賦予編號，所以for 要寫兩個變數。"
   ]
  },
  {
   "cell_type": "code",
   "execution_count": null,
   "metadata": {},
   "outputs": [],
   "source": [
    "for i,x in enumerate([\"a\",\"b\",\"c\"]):\n",
    "    print(i,x)"
   ]
  },
  {
   "cell_type": "markdown",
   "metadata": {},
   "source": [
    "### 4.2.3 巢狀迴圈\n",
    "\n",
    "同一個縮排為同一層。"
   ]
  },
  {
   "cell_type": "code",
   "execution_count": null,
   "metadata": {},
   "outputs": [],
   "source": [
    "for x in range(3):\n",
    "    for y in [4,5,6]:\n",
    "        print(x,y)\n",
    "    print(x,f\"this is range\")"
   ]
  },
  {
   "cell_type": "markdown",
   "metadata": {},
   "source": [
    "### 4.2.4 break and continue 結束迴圈\n",
    "\n",
    "* break 直接結束整個迴圈\n",
    "\n",
    "* continue 結束該次循環，跑完剩下的迴圈\n",
    "\n",
    "* pass : 不做任何事。用來確認程式架構是否正確。"
   ]
  },
  {
   "cell_type": "code",
   "execution_count": null,
   "metadata": {},
   "outputs": [],
   "source": [
    "### break 直接結束該迴圈\n",
    "for i in range(10):\n",
    "    if i == 5 :\n",
    "        break\n",
    "    print(i)"
   ]
  },
  {
   "cell_type": "code",
   "execution_count": null,
   "metadata": {},
   "outputs": [],
   "source": [
    "### continue 只結束該次，繼續下一次迴圈\n",
    "for i in range(10):\n",
    "    if i == 5 :\n",
    "        continue\n",
    "    print(i)"
   ]
  },
  {
   "cell_type": "code",
   "execution_count": null,
   "metadata": {},
   "outputs": [],
   "source": [
    "### pass 不做任何事 ，用來確認架構。\n",
    "for i in range(10):\n",
    "    if i == 5 :\n",
    "        pass\n",
    "    print(i)"
   ]
  },
  {
   "cell_type": "markdown",
   "metadata": {},
   "source": [
    "### 4.2.5 list comprehension\n",
    "\n",
    "使用for迴圈生成列表。\n",
    "\n",
    "通式：\n",
    "list = [(expression) (for loop)* (if statment)*]\n",
    "\n",
    "(expression) 只能運算一次，*表示多層\n",
    "\n",
    "think：為什麼 (expression) 只能運算一次？"
   ]
  },
  {
   "cell_type": "code",
   "execution_count": null,
   "metadata": {},
   "outputs": [],
   "source": [
    "list_x=[x for x in range(10)]\n",
    "print(list_x)"
   ]
  },
  {
   "cell_type": "code",
   "execution_count": null,
   "metadata": {},
   "outputs": [],
   "source": [
    "z=[ x+y for x in range(4) for y in [4,5,6] if x > 1 ]\n",
    "print(z)"
   ]
  },
  {
   "cell_type": "code",
   "execution_count": null,
   "metadata": {},
   "outputs": [],
   "source": [
    "z=[ [x,y] for x in range(4) for y in [4,5,6] if x > 1 ]\n",
    "print(z)"
   ]
  },
  {
   "cell_type": "markdown",
   "metadata": {},
   "source": [
    "### TEST\n",
    "\"\"\"\n",
    "利用 list comprehension 生成10以內的偶數，並利用for 將他們一個一個輸出\n",
    "\"\"\""
   ]
  },
  {
   "cell_type": "code",
   "execution_count": null,
   "metadata": {},
   "outputs": [],
   "source": [
    "### write your code there"
   ]
  },
  {
   "cell_type": "markdown",
   "metadata": {},
   "source": [
    "### 4.3 while 迴圈\n",
    "\n",
    "不確定執行多少次時使用。\n",
    "\n",
    "**非到萬不得已不要使用**，會破壞程式的邏輯。"
   ]
  },
  {
   "cell_type": "code",
   "execution_count": null,
   "metadata": {},
   "outputs": [],
   "source": [
    "i=1\n",
    "while i<5:\n",
    "    print(i)\n",
    "    i+=1"
   ]
  },
  {
   "cell_type": "markdown",
   "metadata": {},
   "source": [
    "### 4.4 iterator\n",
    "\n",
    "為什麼string, list, tuple, set, dict可以跑迴圈？\n",
    "\n",
    "ans: 他們可以是可迭代的對象。\n",
    "\n",
    "* iterable(可迭代的對象)可以跑for 迴圈的物件。\n",
    "\n",
    "* iterator(迭代器) 可以呼叫 next function(拿到下個成員)\n",
    "\n",
    "* iterable (字串 or list etc) -> iter (經過處理) -> iterator (可呼叫next())"
   ]
  },
  {
   "cell_type": "code",
   "execution_count": null,
   "metadata": {},
   "outputs": [],
   "source": [
    "x='world'\n",
    "\n",
    "x_iter=iter(x)\n",
    "\n",
    "print(next(x_iter))\n",
    "print(next(x_iter))\n",
    "print(next(x_iter))\n",
    "print(next(x_iter))\n",
    "print(next(x_iter))\n",
    "print(next(x_iter))"
   ]
  },
  {
   "cell_type": "markdown",
   "metadata": {},
   "source": [
    "### 4.4 generator\n",
    "\n",
    "是一種 iterator，可由generator expression (tuple comprehension)產生，或由generator function 產生。\n",
    "\n",
    "generator的好處是一次只拿一個參數出來，使用完就丟棄，可以大幅減少所佔用的記憶體。\n",
    "\n",
    "因為使用完就丟棄，所以只能用一次。要再次使用需要重新定義。\n"
   ]
  },
  {
   "cell_type": "code",
   "execution_count": null,
   "metadata": {},
   "outputs": [],
   "source": [
    "x=(x**2 for x in range(11)) #generator expression\n",
    "for item in x:\n",
    "    print(item)"
   ]
  },
  {
   "cell_type": "code",
   "execution_count": null,
   "metadata": {},
   "outputs": [],
   "source": [
    "### generator 只能使用一次\n",
    "for item in x:\n",
    "    print(item)"
   ]
  },
  {
   "cell_type": "code",
   "execution_count": null,
   "metadata": {},
   "outputs": [],
   "source": [
    "### 看所佔的記憶體\n",
    "from sys import getsizeof \n",
    "x=(x**2 for x in range(101)) ### generator expression\n",
    "print(x)\n",
    "print('x size',getsizeof(x))\n",
    "print('-'*40)\n",
    "y=[x**2 for x in range(101)]\n",
    "print(y)\n",
    "print('y size',getsizeof(y))"
   ]
  },
  {
   "cell_type": "markdown",
   "metadata": {},
   "source": [
    "### TEST \n",
    "\"\"\"\n",
    "使用一個generator生成10以內的奇數，將他們立方後，用for輸出\n",
    "\"\"\""
   ]
  },
  {
   "cell_type": "code",
   "execution_count": null,
   "metadata": {},
   "outputs": [],
   "source": [
    "### write your code there\n"
   ]
  },
  {
   "cell_type": "markdown",
   "metadata": {},
   "source": [
    "## ch5. Function \n",
    "\n",
    "def functin():\n",
    "\n",
    "    程式碼\n",
    "\n",
    "    (return 結果) \n",
    "    \n",
    "Tip: 需要回傳結果才要return \n",
    "        \n",
    "\n",
    "* return function : 執行到return就會停止函式，並回傳結果。\n",
    "\n",
    "\n",
    "\n",
    "* Parameter / 參數\n",
    "\n",
    "函式運行內需要的參數\n",
    "定義函式時，需要接收什麼樣的資料\n",
    "\n",
    "* Argument / 引數\n",
    "\n",
    "用來呼叫函式運作\n",
    "呼叫函式時，需要給予什麼樣的資料\n",
    "\n"
   ]
  },
  {
   "cell_type": "code",
   "execution_count": null,
   "metadata": {},
   "outputs": [],
   "source": [
    "def ex1 (x,y):\n",
    "    print(f\"x={x},y={y}\")\n",
    "    \n",
    "ex1(1,2)"
   ]
  },
  {
   "cell_type": "code",
   "execution_count": null,
   "metadata": {},
   "outputs": [],
   "source": [
    "def add (x,y):\n",
    "    print(f\"x={x},y={y}\")\n",
    "    return x+y"
   ]
  },
  {
   "cell_type": "code",
   "execution_count": null,
   "metadata": {},
   "outputs": [],
   "source": [
    "z=add(1,2)\n",
    "print(z)"
   ]
  },
  {
   "cell_type": "code",
   "execution_count": null,
   "metadata": {},
   "outputs": [],
   "source": [
    "add(y=2,x=1)"
   ]
  },
  {
   "cell_type": "markdown",
   "metadata": {},
   "source": [
    "### 5.1 函數的預設值"
   ]
  },
  {
   "cell_type": "code",
   "execution_count": null,
   "metadata": {},
   "outputs": [],
   "source": [
    "### 預設y=2\n",
    "def add2(x,y=2):\n",
    "    print(f\"x={x},y={y}\")\n",
    "    return x+y"
   ]
  },
  {
   "cell_type": "code",
   "execution_count": null,
   "metadata": {},
   "outputs": [],
   "source": [
    "print(add2(1))\n",
    "print(add2(1,4))"
   ]
  },
  {
   "cell_type": "markdown",
   "metadata": {},
   "source": [
    "### TEST : \n",
    "\"\"\"\n",
    "定義一個 dist function 輸入點x,y之後，返回點到(0,0)的距離，並用Z接起來之後print出來\n",
    "\"\"\""
   ]
  },
  {
   "cell_type": "code",
   "execution_count": null,
   "metadata": {},
   "outputs": [],
   "source": [
    "### write your code there:\n"
   ]
  },
  {
   "cell_type": "markdown",
   "metadata": {},
   "source": [
    "### 5.2 全域變數與區域變數\n",
    "\n",
    "在主程式裡面的變數均為全域變數，在def內的則為區域變數。\n",
    "\n",
    "**def內**，可以直接調用全域變數，區域變數與全域變數相同時，優先使用區域變數。"
   ]
  },
  {
   "cell_type": "code",
   "execution_count": null,
   "metadata": {},
   "outputs": [],
   "source": [
    "def ok_print():\n",
    "    ### 沒有輸入 x 所以會去找全域變數是否有x，找不到x就會報錯\n",
    "    print(x)"
   ]
  },
  {
   "cell_type": "code",
   "execution_count": null,
   "metadata": {},
   "outputs": [],
   "source": [
    "x='12345'\n",
    "ok_print()"
   ]
  },
  {
   "cell_type": "code",
   "execution_count": null,
   "metadata": {},
   "outputs": [],
   "source": [
    "def ok1_print(x2):\n",
    "    x2='hello'\n",
    "    print(\"x2=\",x2)"
   ]
  },
  {
   "cell_type": "code",
   "execution_count": null,
   "metadata": {},
   "outputs": [],
   "source": [
    "x2='12345'\n",
    "ok1_print(x2)\n",
    "print(\"outside x2\", x2)"
   ]
  },
  {
   "cell_type": "markdown",
   "metadata": {},
   "source": [
    "### 5.2.1 global function\n",
    "\n",
    "若要從def中改變全域變數的值，則使用global"
   ]
  },
  {
   "cell_type": "code",
   "execution_count": null,
   "metadata": {},
   "outputs": [],
   "source": [
    "### 若要從def中改變全域變數的值，則使用global\n",
    "def ok2_print(x):\n",
    "    global x2\n",
    "    x2='hello2'\n",
    "    print(\"x2\",x2)"
   ]
  },
  {
   "cell_type": "code",
   "execution_count": null,
   "metadata": {},
   "outputs": [],
   "source": [
    "x2='12345'\n",
    "ok2_print(x2)\n",
    "print(\"outside x2\", x2)"
   ]
  },
  {
   "cell_type": "markdown",
   "metadata": {},
   "source": [
    "### 5.3  lambda function"
   ]
  },
  {
   "cell_type": "code",
   "execution_count": null,
   "metadata": {},
   "outputs": [],
   "source": [
    "\"\"\"\n",
    "有時候我們只是需要寫一個簡單的function,卻要寫一個def，還要想一個名字。這樣非常麻煩，所以def也有類似short hand的寫法:\n",
    "\n",
    "def add(x,y):\n",
    "    return x+y\n",
    "    \n",
    "step 1 \n",
    "def add(x,y):return x+y\n",
    "\n",
    "step 2: 去掉def add 改用lambda,也去掉return\n",
    "lambda x,y : x+y\n",
    "\"\"\""
   ]
  },
  {
   "cell_type": "code",
   "execution_count": null,
   "metadata": {},
   "outputs": [],
   "source": [
    "a=lambda x,y : x+y \n",
    "a(1,2)"
   ]
  },
  {
   "cell_type": "code",
   "execution_count": null,
   "metadata": {},
   "outputs": [],
   "source": [
    "### combine if short hand\n",
    "b=lambda x,y : x+y if x<y else x-y\n",
    "print(b(1,2))\n",
    "print(b(2,1))"
   ]
  },
  {
   "cell_type": "markdown",
   "metadata": {},
   "source": [
    "### TEST : 用def還原 lambda x,y : x+y if x<y else x-y"
   ]
  },
  {
   "cell_type": "code",
   "execution_count": null,
   "metadata": {},
   "outputs": [],
   "source": [
    "### write your code there\n"
   ]
  },
  {
   "cell_type": "markdown",
   "metadata": {},
   "source": [
    "## 5.4 內建函數"
   ]
  },
  {
   "cell_type": "markdown",
   "metadata": {},
   "source": [
    "### 5.4.1 map(function,list)\n",
    "\n",
    "map(function,list)\n",
    "\n",
    "把list中的每一個元素都經過function計算,\n",
    "回傳值是 map object,\n",
    "需用list() 轉回list\n",
    "\n"
   ]
  },
  {
   "cell_type": "code",
   "execution_count": null,
   "metadata": {},
   "outputs": [],
   "source": [
    "def times_two(x):\n",
    "    return x*2\n",
    "\n",
    "list_x=[1,2,3,4,5]\n",
    "\n",
    "print(map(times_two,list_x))\n",
    "\n",
    "print(list(map(times_two,list_x)))\n"
   ]
  },
  {
   "cell_type": "code",
   "execution_count": null,
   "metadata": {},
   "outputs": [],
   "source": [
    "### use lambda function\n",
    "list_x=[1,2,3,4,5]\n",
    "print(list(map(lambda x : x*2,list_x)))"
   ]
  },
  {
   "cell_type": "markdown",
   "metadata": {},
   "source": [
    "### 5.4.2 zip(list1,list2...)\n",
    "'''\n",
    "zip 把list1,list2中的元素兩兩對應\n",
    "'''"
   ]
  },
  {
   "cell_type": "code",
   "execution_count": null,
   "metadata": {},
   "outputs": [],
   "source": [
    "x=[1,2,3];y=[4,5,6];z=[7,8,9]\n",
    "print(zip(x,y))\n",
    "print(list(zip(x,y,z)))\n",
    "print(dict(zip(x,y)))"
   ]
  },
  {
   "cell_type": "markdown",
   "metadata": {},
   "source": [
    "### 5.4.3 round(  ) \n",
    "\n",
    "round(數字 , 小數位數 )\n",
    "\n",
    "預設小數第一位四捨六入五平分"
   ]
  },
  {
   "cell_type": "code",
   "execution_count": null,
   "metadata": {},
   "outputs": [],
   "source": [
    "print('round(12.4)',round(12.4))\n",
    "print('round(12.5)',round(12.5))\n",
    "print('round(12.51)',round(12.51))\n",
    "print('round(12.501)',round(12.501))\n",
    "print('round(13.5)',round(13.5))\n",
    "print('round(14.5)',round(14.5))\n",
    "print('round(14.501)',round(14.501))\n",
    "print('round(14.501,2)',round(14.501,2))"
   ]
  },
  {
   "cell_type": "markdown",
   "metadata": {},
   "source": [
    "### ---------- Blow by youself ----------"
   ]
  },
  {
   "cell_type": "markdown",
   "metadata": {},
   "source": [
    "### 5.4.4 isinstance(變數,類別)\n",
    "\n",
    "判斷該變數是否為該型別"
   ]
  },
  {
   "cell_type": "code",
   "execution_count": null,
   "metadata": {},
   "outputs": [],
   "source": [
    "x='123'\n",
    "print(isinstance(x,str))\n",
    "print(isinstance(x,int))"
   ]
  },
  {
   "cell_type": "markdown",
   "metadata": {},
   "source": [
    "### 5.4.5 sorted(list) and list.sort()\n",
    "'''\n",
    "sorted(list)\n",
    "排序後,原來的list不變動\n",
    "\n",
    "list.sort()\n",
    "排序後,直接取代原list\n",
    "'''"
   ]
  },
  {
   "cell_type": "code",
   "execution_count": null,
   "metadata": {},
   "outputs": [],
   "source": [
    "list_x=[5,4,7,9,0]\n",
    "print('sorted',sorted(list_x))\n",
    "print(list_x)\n",
    "\n",
    "print('-'*40)\n",
    "\n",
    "list_x=[5,4,7,9,0]\n",
    "print('list.sort()',list_x.sort())\n",
    "print(list_x)"
   ]
  },
  {
   "cell_type": "markdown",
   "metadata": {},
   "source": [
    "### 5.4.6 reversed(list) and list.resvere()\n",
    "'''\n",
    "reversed(list)\n",
    "相反後,原來的list不變動\n",
    "\n",
    "list.reverse()\n",
    "相反後,直接取代原list\n",
    "'''"
   ]
  },
  {
   "cell_type": "code",
   "execution_count": null,
   "metadata": {},
   "outputs": [],
   "source": [
    "xlist=[1,3,5,7]\n",
    "print('reversed',list(reversed(xlist)))\n",
    "print(xlist)\n",
    "\n",
    "print('-'*40)\n",
    "\n",
    "xlist=[1,3,5,7]\n",
    "print('list.reverse',xlist.reverse())\n",
    "print(xlist)"
   ]
  },
  {
   "cell_type": "markdown",
   "metadata": {},
   "source": [
    "### 5.4.7 min() and max()"
   ]
  },
  {
   "cell_type": "code",
   "execution_count": null,
   "metadata": {},
   "outputs": [],
   "source": [
    "list_x=[5,-4,7,-9,0]\n",
    "print('list_x max',max(list_x)) \n",
    "print('list_x min',min(list_x))\n",
    "\n",
    "print('-'*40)\n",
    "names=['Angle','Tim','Kelly Wang']\n",
    "\n",
    "### 字首的字母照abc的順序排列\n",
    "print(min(names)) \n",
    "\n",
    "### 照字數長短排列\n",
    "print(min(names,key= lambda x : len(x)))"
   ]
  },
  {
   "cell_type": "code",
   "execution_count": null,
   "metadata": {},
   "outputs": [],
   "source": [
    "### max() 配合 np.abs()可以快速把waveform normalize\n",
    "list_x=[5,-4,7,-9,0]\n",
    "\n",
    "import numpy as np \n",
    "\n",
    "max(np.abs(list_x)) ### 配合 np.abs()可以快速把waveform normalize"
   ]
  },
  {
   "cell_type": "markdown",
   "metadata": {},
   "source": [
    "### 5.4.8 filter(function,list)\n",
    "\"\"\"\n",
    "filter(function,list)\n",
    "\n",
    "把list中的每一個元素都經過function計算(輸出bool),\n",
    "回傳值是 filter object,\n",
    "需用list() 轉回list\n",
    "\n",
    "\"\"\""
   ]
  },
  {
   "cell_type": "code",
   "execution_count": null,
   "metadata": {},
   "outputs": [],
   "source": [
    "def divide_two(x):\n",
    "    return x % 2 == 0\n",
    "\n",
    "list_x=[1,2,3,4,5]\n",
    "\n",
    "print(list(map(divide_two,list_x)))\n",
    "\n",
    "print(filter(divide_two,list_x))\n",
    "\n",
    "print(list(filter(divide_two,list_x)))"
   ]
  },
  {
   "cell_type": "code",
   "execution_count": null,
   "metadata": {},
   "outputs": [],
   "source": [
    "### use lambda function\n",
    "list_x=[1,2,3,4,5]\n",
    "print(list(filter(lambda x : x%2==0 ,list_x)))"
   ]
  },
  {
   "cell_type": "markdown",
   "metadata": {},
   "source": [
    "### 5.4.9 all(list) and any(list)\n",
    "\"\"\"\n",
    "all(list) \n",
    "\n",
    "判斷list中是否都有值(True),如果都是True,回傳True\n",
    "\n",
    "all 認定為 False 的值：list 中 有 False, 0, None, '',[], (), {}，其餘都是 True\n",
    "\n",
    "\n",
    "\n",
    "any(list) \n",
    "\n",
    "list中有值(True)就回傳True\n",
    "\"\"\""
   ]
  },
  {
   "cell_type": "code",
   "execution_count": null,
   "metadata": {},
   "outputs": [],
   "source": [
    "list_x=[0,1,2]\n",
    "\n",
    "print(\"all\",all(list_x)) ### False,因為包含0\n",
    "print(\"any\",any(list_x)) ### True,只要有一個有值，就會是True"
   ]
  },
  {
   "cell_type": "code",
   "execution_count": null,
   "metadata": {},
   "outputs": [],
   "source": [
    "### any 不可以使用generator expression\n",
    "x=[num for num in range(2,9,2) if num % 2 == 0] ### list comprehension\n",
    "print(x)\n",
    "print(type(num for num in range(1,9,2) if num % 2 == 0))\n",
    "\n",
    "print(\"all\",all(num for num in range(1,9,2) if num % 2 == 0)) ### all會把單一的[]視為Ｔrue"
   ]
  },
  {
   "cell_type": "code",
   "execution_count": null,
   "metadata": {},
   "outputs": [],
   "source": [
    "###測試空集合 ### all會把單一的[]視為Ｔrue\n",
    "print(\"all []\",all([]))\n",
    "print(\"all {}\",all({}))\n",
    "print(\"all ()\",all(()))\n",
    "print(\"all ''\",all(''))\n",
    "\n",
    "print('-'*40)\n",
    "\n",
    "print(\"all [[]]\",all([[]]))\n",
    "print(\"all [{}]\",all([{}]))\n",
    "print(\"all [()]\",all([()]))\n",
    "print(\"all ['']\",all(['']))"
   ]
  },
  {
   "cell_type": "markdown",
   "metadata": {},
   "source": [
    "### 5.5 generator function (by yourself)\n",
    "\n",
    "使用yield 當作回傳值，並且暫停在yield。"
   ]
  },
  {
   "cell_type": "code",
   "execution_count": null,
   "metadata": {},
   "outputs": [],
   "source": [
    "def count_to_max(maxx):\n",
    "    count=1\n",
    "    while count <= maxx :\n",
    "        yield count ### 運行到yield 暫停程式，並返回count值\n",
    "        count +=1\n",
    "\n"
   ]
  },
  {
   "cell_type": "code",
   "execution_count": null,
   "metadata": {},
   "outputs": [],
   "source": [
    "count=count_to_max(3)\n",
    "print(next(count))\n",
    "print(next(count))\n",
    "print(next(count))\n",
    "print(next(count))"
   ]
  },
  {
   "cell_type": "markdown",
   "metadata": {},
   "source": [
    "### 5.6  Arbitrary Arguments, *args (by yourself)\n",
    "\n",
    "如果不知道輸入有多少項，可以在變數前面加一個*，python 會把變數視為一個tuple"
   ]
  },
  {
   "cell_type": "code",
   "execution_count": null,
   "metadata": {},
   "outputs": [],
   "source": [
    "def multi_add(*x):\n",
    "    allsum=0\n",
    "    for i in x:\n",
    "        allsum += i\n",
    "    \n",
    "    return allsum\n",
    "\n",
    "\"\"\"\n",
    "def multi_add(*x):\n",
    "    return sum(x)\n",
    "\"\"\""
   ]
  },
  {
   "cell_type": "code",
   "execution_count": null,
   "metadata": {},
   "outputs": [],
   "source": [
    "### try multi_add(1,2,3,4)\n",
    "multi_add(1,2,3,4,5)"
   ]
  },
  {
   "cell_type": "markdown",
   "metadata": {},
   "source": [
    "### 5.7 Arbitrary Keyword Arguments, **kwargs (by yourself)\n",
    "\n",
    "如果不知道輸入有多少項x=a,y=b時,**kwargs本質是一個字典**, \n",
    "\n",
    "**kwargs 不可以單獨存在 **"
   ]
  },
  {
   "cell_type": "code",
   "execution_count": null,
   "metadata": {},
   "outputs": [],
   "source": [
    "def test(*args,**kwargs):\n",
    "    print('args=',args)\n",
    "    print('kwargs=',kwargs)\n",
    "\n",
    "test(1,2,3,a=5,b='b',c=3.14)"
   ]
  },
  {
   "cell_type": "code",
   "execution_count": null,
   "metadata": {},
   "outputs": [],
   "source": [
    "def test2 (a,b,*args,**kwargs):\n",
    "    print(a)\n",
    "    print(b)\n",
    "    print(args)\n",
    "    print(kwargs)\n",
    "\n",
    "test2(1,2,3,4,5,c=7,d=8)"
   ]
  },
  {
   "cell_type": "markdown",
   "metadata": {},
   "source": [
    "## 6.IO (input and output ) and import "
   ]
  },
  {
   "cell_type": "markdown",
   "metadata": {},
   "source": [
    "### 6.1 open\n",
    "* open:\n",
    "\n",
    "\"r\" - Read - 讀取模式，檔案必須存在，若檔案不存在，則報錯。\n",
    "\n",
    "\"w\" - Write - 寫入模式，直接覆蓋原檔案，若檔案不存在，創建該檔案\n",
    "\n",
    "\"a\" - Append - 複寫模式，會接在原本檔案內容的後面，若檔案不存在，創建該檔案\n",
    "\n",
    "\"b\" - Binary - 二進位模式\n",
    "\n",
    "\n",
    "* 更新模式:可讀可寫\n",
    "\"r+\" - 檔案必須已存在\n",
    "\n",
    "\"w+\" - 原始檔案內容會消失\n",
    "\n",
    "\"a+\" - 會接在原本檔案內容的後面\n",
    "\n",
    "\"b+\" - 二進位模式"
   ]
  },
  {
   "cell_type": "code",
   "execution_count": null,
   "metadata": {},
   "outputs": [],
   "source": [
    "### 記得有open 就要close 只能輸出字串\n",
    "f = open(file=\"demo.txt\", mode=\"w\")\n",
    "f.write(\"Now the file has more content! \\n\")\n",
    "f.write('123 \\n')\n",
    "f.write(f\"{456:.1f}\")\n",
    "f.close()"
   ]
  },
  {
   "cell_type": "markdown",
   "metadata": {},
   "source": [
    "## 6.2  with open (推薦寫法)\n",
    "利用 with 就不需要寫close (推薦寫法)"
   ]
  },
  {
   "cell_type": "code",
   "execution_count": null,
   "metadata": {},
   "outputs": [],
   "source": [
    "with open ('demo.txt',mode='r') as f:\n",
    "    x=f.readline() ## 讀出單一行\n",
    "    y=f.readline()\n",
    "#### 離開縮排之後已經自動關閉 f\n",
    "print(x)\n",
    "print(y)"
   ]
  },
  {
   "cell_type": "code",
   "execution_count": null,
   "metadata": {},
   "outputs": [],
   "source": [
    "with open ('demo.txt',mode='r') as f:\n",
    "    x=f.readlines() ## 讀出所有行\n",
    "#### 離開縮排之後已經自動關閉 f\n",
    "print(x)\n",
    "\n",
    "for item in x:\n",
    "    print(item.strip())"
   ]
  },
  {
   "cell_type": "code",
   "execution_count": null,
   "metadata": {},
   "outputs": [],
   "source": [
    "### 輸出乘法表\n",
    "with open ('times.log',mode='w')as f:\n",
    "    for i in range(1,10):\n",
    "        for j in range(11,21):\n",
    "            f.write(f\"{i},{j},{i*j}\\n\")"
   ]
  },
  {
   "cell_type": "code",
   "execution_count": null,
   "metadata": {},
   "outputs": [],
   "source": [
    "### 讀進乘法表\n",
    "with open ('times.log',mode='r') as f:\n",
    "    xlist=f.readlines()\n",
    "print(xlist)"
   ]
  },
  {
   "cell_type": "code",
   "execution_count": null,
   "metadata": {},
   "outputs": [],
   "source": [
    "with open ('times.log',mode='r') as f:\n",
    "    xlist=[]\n",
    "    for line in f.readlines():\n",
    "        xlist.append(line.strip().split(\",\"))\n",
    "print(xlist)"
   ]
  },
  {
   "cell_type": "code",
   "execution_count": null,
   "metadata": {},
   "outputs": [],
   "source": [
    "#### 寫成 def\n",
    "def file_read(filename):\n",
    "    with open (filename,mode='r') as f:\n",
    "        \n",
    "    xlist=[]\n",
    "    \n",
    "    for line in f.readlines():\n",
    "        xlist.append(line.strip().split(\",\"))\n",
    "    \n",
    "    return xlist"
   ]
  },
  {
   "cell_type": "markdown",
   "metadata": {},
   "source": [
    "### TEST\n",
    "\n",
    "將demo_test.txt的文件讀進python，將“,”去除輸出成列表。\n",
    "\n",
    "demo_test.txt:\n",
    "\n",
    "1,2,3,4\n",
    "\n",
    "5,6,7,8\n",
    "\n",
    "9,10,11,12\n",
    "\n",
    "13,14,15,16\n",
    "\n",
    "\n"
   ]
  },
  {
   "cell_type": "code",
   "execution_count": null,
   "metadata": {},
   "outputs": [],
   "source": [
    "### write your code there\n"
   ]
  },
  {
   "cell_type": "markdown",
   "metadata": {},
   "source": [
    "## ch7. 例外處理\n",
    "try: \n",
    "    \n",
    "    程式跑的第一步\n",
    "    \n",
    "except:\n",
    "    \n",
    "    如果第一步有錯誤,執行這一步\n",
    "\n",
    "else:\n",
    "\n",
    "    如果第一步沒有錯,執行這一步\n",
    "\n",
    "finally:\n",
    "\n",
    "    不管有沒有錯,都執行這一步"
   ]
  },
  {
   "cell_type": "code",
   "execution_count": null,
   "metadata": {},
   "outputs": [],
   "source": [
    "xx='123'\n",
    "xx=123\n",
    "try:\n",
    "    xx+2\n",
    "except:\n",
    "    print(\"Something else went wrong\")\n",
    "else:\n",
    "    print('the result is',xx+2)\n",
    "finally:\n",
    "    print(\"DONE\")"
   ]
  },
  {
   "cell_type": "markdown",
   "metadata": {},
   "source": [
    "### 7.1 except \n",
    "except 可以有很多個，針對不同的情況。"
   ]
  },
  {
   "cell_type": "code",
   "execution_count": null,
   "metadata": {},
   "outputs": [],
   "source": [
    "xx='123'\n",
    "try:\n",
    "    print(xx+2)\n",
    "except NameError:\n",
    "    print(\"Variable xx is not defined\")\n",
    "except:\n",
    "    print(\"Something else went wrong\")"
   ]
  },
  {
   "cell_type": "markdown",
   "metadata": {},
   "source": [
    "### 7.2 常見的Error (by yourself)\n",
    "\n",
    "* SyntaxError - 拼字拼錯或是不夠了解語法亂寫。\n",
    "\n",
    "* NameError - 沒有命名變數就使用。\n",
    "\n",
    "* TypeError - 函式帶入的型別錯誤，需要list 輸入成 int。\n",
    "\n",
    "* ValueError - 帶入型別對了，但值錯誤。\n",
    "\n",
    "* IndexError - 要求的個數大於原本的個數。\n",
    "\n",
    "* KeyError - 沒有key 的錯誤。\n",
    "\n",
    "* AttributeError - 沒有對應的方法或屬性。\n",
    "\n",
    "* ZeroDivisionError - 除以零的錯誤。"
   ]
  },
  {
   "cell_type": "code",
   "execution_count": null,
   "metadata": {},
   "outputs": [],
   "source": [
    "### SyntaxError - 拼字拼錯或是不夠了解語法亂寫\n",
    "\n",
    "print(\"Hello)"
   ]
  },
  {
   "cell_type": "code",
   "execution_count": null,
   "metadata": {},
   "outputs": [],
   "source": [
    "### NameError - 沒有命名變數就使用\n",
    "del xx\n",
    "print(xx)"
   ]
  },
  {
   "cell_type": "code",
   "execution_count": null,
   "metadata": {},
   "outputs": [],
   "source": [
    "### TypeError - 函式帶入的型別錯誤\n",
    "### int 只能輸入字串\n",
    "int([1,2,4])"
   ]
  },
  {
   "cell_type": "code",
   "execution_count": null,
   "metadata": {},
   "outputs": [],
   "source": [
    "### ValueError - 帶入型別對了，但值錯誤。\n",
    "### int 只能輸入字串，但str不能變成整數。\n",
    "int('str')"
   ]
  },
  {
   "cell_type": "code",
   "execution_count": null,
   "metadata": {},
   "outputs": [],
   "source": [
    "### IndexError - 要求的個數大於原本的個數。\n",
    "x=[1,3,5]\n",
    "print(x[3])"
   ]
  },
  {
   "cell_type": "code",
   "execution_count": null,
   "metadata": {},
   "outputs": [],
   "source": [
    "### KeyError - 沒有key 的錯誤\n",
    "\n",
    "x_dict={\"apple\":12}\n",
    "print(x_dict['banana'])"
   ]
  },
  {
   "cell_type": "code",
   "execution_count": null,
   "metadata": {},
   "outputs": [],
   "source": [
    "# AttributeError - 沒有對應的方法或屬性\n",
    "x=[1,-1,0]\n",
    "x.abs() ### list 沒有絕對值方法"
   ]
  },
  {
   "cell_type": "code",
   "execution_count": null,
   "metadata": {},
   "outputs": [],
   "source": [
    "### ZeroDivisionError - 除以零的錯誤。\n",
    "print(5/0)"
   ]
  },
  {
   "cell_type": "markdown",
   "metadata": {},
   "source": [
    "### 7.3 raise 引發錯誤資訊 (by yourself)\n",
    "\n",
    "raise Errortype('what u want to say')"
   ]
  },
  {
   "cell_type": "code",
   "execution_count": null,
   "metadata": {},
   "outputs": [],
   "source": [
    "#xx='123'\n",
    "a = input(\"input：\")\n",
    "if not a.isdigit(): ### a.isdigit()檢測是否為數字組成，若均為數字，則為True\n",
    "    raise TypeError('a is needed a number')"
   ]
  },
  {
   "cell_type": "markdown",
   "metadata": {},
   "source": [
    "## ch8 class  (by yourself)\n",
    "\n",
    "https://www.youtube.com/watch?v=v_pRzWyArBQ&list=PL3VInsFtJyIN6xlIQGaHdWJFGPQSNAIKR&index=6\n",
    "\n",
    "\n",
    "封裝的方法。\n",
    "class跟def是組成模組(函式庫)功能的最低架構。\n",
    "\n",
    "class Name:\n",
    "\n",
    "    類別屬性\n",
    "\n",
    "    def __init__(self,args): ### 初始化函數，創建物件的屬性\n",
    "    \n",
    "        物件屬性"
   ]
  },
  {
   "cell_type": "code",
   "execution_count": null,
   "metadata": {},
   "outputs": [],
   "source": [
    "class Account:\n",
    "    def __init__(self, number, name):\n",
    "        self.number = number\n",
    "        self.name = name\n",
    "        self.balance = 0\n",
    "        \n",
    "    def deposit(self, amount):  #存款動作: amount代表存入金額\n",
    "        if amount <= 0:\n",
    "            raise ValueError('must be positive')\n",
    "        self.balance += amount\n",
    "        \n",
    "    def withdraw(self, amount): #取款動作: amount代表取款金額\n",
    "        if amount <= self.balance:\n",
    "            self.balance -= amount\n",
    "        else:\n",
    "            raise RuntimeError('balance not enough')"
   ]
  },
  {
   "cell_type": "code",
   "execution_count": null,
   "metadata": {},
   "outputs": [],
   "source": [
    "acct = Account('000–123–789', 'Chunghung') #開一個帳戶\n",
    "acct.deposit(100)\n",
    "acct.withdraw(30)\n",
    "print(acct.balance) #餘額是 70"
   ]
  },
  {
   "cell_type": "markdown",
   "metadata": {},
   "source": [
    "#### 植物大戰殭屍"
   ]
  },
  {
   "cell_type": "code",
   "execution_count": null,
   "metadata": {},
   "outputs": [],
   "source": [
    "from random import randint, randrange\n",
    "class Fighter: ### 習慣上首字大寫\n",
    "    def __init__(self,name,hp):\n",
    "        self.name=name\n",
    "        self.hp=hp\n",
    "        \n",
    "    def alive(self):\n",
    "        return self.hp > 0\n",
    "    \n",
    "    \n",
    "    def attack(self,other):\n",
    "        hugeProbability=randint(0, 19)\n",
    "        if hugeProbability == 0 :\n",
    "            print(self.name+\" HUGE ATTACK!!!!\")\n",
    "            hurt=other.hp*3//4\n",
    "            hplose = hurt if hurt < 20 else 20\n",
    "            other.hp -= hplose\n",
    "        else:\n",
    "            hplose=randint(0, 4)\n",
    "            if hplose == 0:\n",
    "                print(self.name+\"MISS !!!!\")\n",
    "            else:    \n",
    "                other.hp -= hplose\n",
    "\n",
    "    \n",
    "class Hero(Fighter):\n",
    "    def __init__(self,name,hp,mp):\n",
    "        super().__init__(name, hp)\n",
    "        self._mp = mp\n",
    "        \n",
    "    def attack(self,other):\n",
    "        hplose=randint(0, 6) \n",
    "        if hplose == 0 :\n",
    "            print(self.name +\" MISS!!!!\")\n",
    "        else:\n",
    "            other.hp -= hplose  \n",
    "    \n",
    "        \n",
    "        \n",
    "class Moster(Fighter):\n",
    "    def __init__(self,name,hp,mp):\n",
    "        super().__init__(name, hp)\n",
    "        self._mp = mp\n"
   ]
  },
  {
   "cell_type": "code",
   "execution_count": null,
   "metadata": {},
   "outputs": [],
   "source": [
    "h=Hero('hero',20,20)\n",
    "m=Moster('mon',20,10)\n",
    "\n",
    "fight_round=1\n",
    "\n",
    "while h.alive() and m.alive() :\n",
    "    print(f\"=====round {fight_round:2d}======\")\n",
    "    print(f'{h.name}使用普攻打了{m.name}.')\n",
    "    h.attack(m)\n",
    "    \n",
    "    if m.alive() :  \n",
    "        print('%s回擊了%s.' % (m.name, h.name))\n",
    "        m.attack(h)\n",
    "    \n",
    "\n",
    "    print(f\"Hero's hp {h.hp}\")\n",
    "    print(f\"Monster's hp {m.hp}\")\n",
    "    fight_round+=1\n",
    "\n",
    "if h.alive():\n",
    "    print(\"Hero 勝利!!!\")\n",
    "else:\n",
    "    print(\"Monster 勝利!!!\")\n",
    "    \n",
    "\n"
   ]
  }
 ],
 "metadata": {
  "kernelspec": {
   "display_name": "Python 3",
   "language": "python",
   "name": "python3"
  },
  "language_info": {
   "codemirror_mode": {
    "name": "ipython",
    "version": 3
   },
   "file_extension": ".py",
   "mimetype": "text/x-python",
   "name": "python",
   "nbconvert_exporter": "python",
   "pygments_lexer": "ipython3",
   "version": "3.6.9"
  }
 },
 "nbformat": 4,
 "nbformat_minor": 4
}
