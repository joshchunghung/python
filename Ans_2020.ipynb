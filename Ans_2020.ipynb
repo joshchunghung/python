{
 "cells": [
  {
   "cell_type": "code",
   "execution_count": 1,
   "metadata": {},
   "outputs": [],
   "source": [
    "from obspy import read_inventory, UTCDateTime \n",
    "from obspy import read\n",
    "from obspy.clients.fdsn import Client\n",
    "from obspy.geodetics import gps2dist_azimuth,kilometers2degrees\n",
    "from obspy.taup import TauPyModel\n",
    "from obspy.io.sac import attach_paz"
   ]
  },
  {
   "cell_type": "code",
   "execution_count": 2,
   "metadata": {},
   "outputs": [
    {
     "name": "stdout",
     "output_type": "stream",
     "text": [
      "1 Event(s) in Catalog:\n",
      "2018-02-06T15:50:43.300000Z | +24.136, +121.658 | 6.4 Mww\n"
     ]
    }
   ],
   "source": [
    "from obspy.clients.fdsn import Client\n",
    "from obspy import UTCDateTime \n",
    "\n",
    "### event location research range\n",
    "locationDic={\"minlat\":22,\"maxlat\":26,\"minlon\":121,\"maxlon\":122}\n",
    "\n",
    "### get the event\n",
    "eveTime=UTCDateTime(\"2018/02/06 15\") ### or UTCDateTime(\"2019062603\")\n",
    "\n",
    "client = Client(\"IRIS\")\n",
    "Cata = client.get_events(starttime=eveTime, endtime=eveTime+3600,\n",
    "                         minlatitude=locationDic['minlat'],maxlatitude=locationDic['maxlat'],\n",
    "                         minlongitude=locationDic['minlon'], maxlongitude=locationDic['maxlon'],\n",
    "                         minmag=6,catalog=\"NEIC PDE\")\n",
    "\n",
    "print(Cata)"
   ]
  },
  {
   "cell_type": "code",
   "execution_count": 3,
   "metadata": {},
   "outputs": [
    {
     "data": {
      "text/plain": [
       "Event:\t2018-02-06T15:50:43.300000Z | +24.136, +121.658 | 6.4 Mww\n",
       "\n",
       "\t            resource_id: ResourceIdentifier(id=\"smi:service.iris.edu/fdsnws/event/1/query?eventid=10639985\")\n",
       "\t             event_type: 'earthquake'\n",
       "\t    preferred_origin_id: ResourceIdentifier(id=\"smi:service.iris.edu/fdsnws/event/1/query?originid=28369504\")\n",
       "\t preferred_magnitude_id: ResourceIdentifier(id=\"smi:service.iris.edu/fdsnws/event/1/query?magnitudeid=185558494\")\n",
       "\t                   ---------\n",
       "\t     event_descriptions: 1 Elements\n",
       "\t                origins: 1 Elements\n",
       "\t             magnitudes: 1 Elements"
      ]
     },
     "execution_count": 3,
     "metadata": {},
     "output_type": "execute_result"
    }
   ],
   "source": [
    "Cata[0]"
   ]
  },
  {
   "cell_type": "code",
   "execution_count": 4,
   "metadata": {},
   "outputs": [
    {
     "data": {
      "text/plain": [
       "Origin\n",
       "\t   resource_id: ResourceIdentifier(id=\"smi:service.iris.edu/fdsnws/event/1/query?originid=28369504\")\n",
       "\t          time: UTCDateTime(2018, 2, 6, 15, 50, 43, 300000)\n",
       "\t     longitude: 121.658\n",
       "\t      latitude: 24.1359\n",
       "\t         depth: 17000.0\n",
       "\t creation_info: CreationInfo(author='us')"
      ]
     },
     "execution_count": 4,
     "metadata": {},
     "output_type": "execute_result"
    }
   ],
   "source": [
    "Cata[0].origins[0]"
   ]
  },
  {
   "cell_type": "code",
   "execution_count": 5,
   "metadata": {},
   "outputs": [
    {
     "name": "stdout",
     "output_type": "stream",
     "text": [
      "2018-02-06T15:50:43.300000Z\n",
      "24.1359 121.658 17.0\n"
     ]
    }
   ],
   "source": [
    "EVLA=Cata[0].origins[0].latitude\n",
    "EVLO=Cata[0].origins[0].longitude\n",
    "EVDP=Cata[0].origins[0].depth/1000\n",
    "EVTtime=Cata[0].origins[0].time\n",
    "print(EVTtime)\n",
    "print(EVLA,EVLO,EVDP)"
   ]
  },
  {
   "cell_type": "code",
   "execution_count": 6,
   "metadata": {},
   "outputs": [],
   "source": [
    "#看不懂inventory的可以回去看obspy3.2 get_station那部分，這邊要求所有測站、所有儀器類型、所有分量的資料，且channel要最詳細\n",
    "inventory = client.get_stations(network=\"IU\", station=\"*\",location=\"*\",channel=\"*\",level=\"channel\")\n",
    "inv=inventory.copy( )"
   ]
  },
  {
   "cell_type": "code",
   "execution_count": 7,
   "metadata": {},
   "outputs": [],
   "source": [
    "#去儀器響應\n",
    "def decon(stf):\n",
    "    stf.detrend(type='demean')\n",
    "    stf.detrend(type='linear')\n",
    "    nqf=stf[0].stats.sampling_rate/2 ###nyquist frequency\n",
    "    pre_filt = [0.005, 0.008 , nqf-2, nqf] ### zero phase filter band\n",
    "    stf.remove_response(pre_filt=pre_filt,output='disp') ### 會自動把stf更新\n",
    "    stf.taper(0.05, type='hann')\n",
    "    return stf"
   ]
  },
  {
   "cell_type": "code",
   "execution_count": 8,
   "metadata": {},
   "outputs": [],
   "source": [
    "#要求\"Trillium\"這種測站，可以對此做更改\n",
    "def loccode(sta_txt,machine='Trillium'):    \n",
    "    for txt in sta_txt.channels:\n",
    "        #print(str(txt))\n",
    "        if machine in str(txt) :\n",
    "           # print(txt)\n",
    "            loc=txt.location_code\n",
    "            break\n",
    "            \n",
    "    \n",
    "    return loc"
   ]
  },
  {
   "cell_type": "code",
   "execution_count": 9,
   "metadata": {},
   "outputs": [
    {
     "name": "stdout",
     "output_type": "stream",
     "text": [
      "ADK 10\n",
      "ANTO 10\n",
      "CHTO 00\n",
      "COLA 00\n",
      "DAV 10\n",
      "DWPF 10\n",
      "FUNA 10\n",
      "GNI 10\n",
      "GUMO 00\n",
      "HKT 10\n",
      "JOHN 10\n",
      "KOWA 00\n",
      "LCO 10\n",
      "PTCN 10\n",
      "RAO 10\n",
      "SJG 00\n",
      "TEIG 10\n"
     ]
    }
   ],
   "source": [
    "#要求\"Ttillium\"類型的測站，並且只要Z分量的資料，最後轉為SAC檔輸出\n",
    "for sta_list in inv.select(channel='*Z',time=EVTtime)[0].stations:\n",
    "    try:\n",
    "        sta=sta_list.code\n",
    "        loc=loccode(sta_list)\n",
    "        print(sta,loc)\n",
    "        st = client.get_waveforms(network=\"IU\", station=sta,\n",
    "                          location=loc, channel=\"BHZ\",\n",
    "                          starttime=EVTtime,endtime=EVTtime + 600,attach_response=True)\n",
    "        #attach_response=True是要儀器響應，去儀器響應的步驟在上方的def decon\n",
    "        stf2=st.copy()\n",
    "        stf=decon(stf2)\n",
    "        for tr in stf:\n",
    "            tr.write(tr.id+'.sac',format='SAC')\n",
    "    except:\n",
    "        continue"
   ]
  }
 ],
 "metadata": {
  "kernelspec": {
   "display_name": "Python 3",
   "language": "python",
   "name": "python3"
  },
  "language_info": {
   "codemirror_mode": {
    "name": "ipython",
    "version": 3
   },
   "file_extension": ".py",
   "mimetype": "text/x-python",
   "name": "python",
   "nbconvert_exporter": "python",
   "pygments_lexer": "ipython3",
   "version": "3.6.10"
  }
 },
 "nbformat": 4,
 "nbformat_minor": 4
}
